{
  "cells": [
    {
      "cell_type": "markdown",
      "metadata": {
        "id": "tChWFAUf8CAg"
      },
      "source": [
        "# Part 0: Setting up"
      ]
    },
    {
      "cell_type": "markdown",
      "metadata": {
        "id": "867SO8F24Enh"
      },
      "source": [
        "## Install and start MongoDB"
      ]
    },
    {
      "cell_type": "code",
      "execution_count": null,
      "metadata": {
        "colab": {
          "base_uri": "https://localhost:8080/"
        },
        "id": "enbk0ZkjoxPO",
        "outputId": "8bd828bb-8cb4-434d-d2bc-96cb1e7ecf34"
      },
      "outputs": [
        {
          "output_type": "stream",
          "name": "stdout",
          "text": [
            "The following additional packages will be installed:\n",
            "  libpcap0.8 libyaml-cpp0.6 mongo-tools mongodb-clients mongodb-server\n",
            "  mongodb-server-core\n",
            "The following NEW packages will be installed:\n",
            "  libpcap0.8 libyaml-cpp0.6 mongo-tools mongodb mongodb-clients mongodb-server\n",
            "  mongodb-server-core\n",
            "0 upgraded, 7 newly installed, 0 to remove and 24 not upgraded.\n",
            "Need to get 55.8 MB of archives.\n",
            "After this operation, 226 MB of additional disk space will be used.\n",
            "Selecting previously unselected package libpcap0.8:amd64.\n",
            "(Reading database ... 122352 files and directories currently installed.)\n",
            "Preparing to unpack .../0-libpcap0.8_1.9.1-3_amd64.deb ...\n",
            "Unpacking libpcap0.8:amd64 (1.9.1-3) ...\n",
            "Selecting previously unselected package libyaml-cpp0.6:amd64.\n",
            "Preparing to unpack .../1-libyaml-cpp0.6_0.6.2-4ubuntu1_amd64.deb ...\n",
            "Unpacking libyaml-cpp0.6:amd64 (0.6.2-4ubuntu1) ...\n",
            "Selecting previously unselected package mongo-tools.\n",
            "Preparing to unpack .../2-mongo-tools_3.6.3-0ubuntu1_amd64.deb ...\n",
            "Unpacking mongo-tools (3.6.3-0ubuntu1) ...\n",
            "Selecting previously unselected package mongodb-clients.\n",
            "Preparing to unpack .../3-mongodb-clients_1%3a3.6.9+really3.6.8+90~g8e540c0b6d-0ubuntu5.3_amd64.deb ...\n",
            "Unpacking mongodb-clients (1:3.6.9+really3.6.8+90~g8e540c0b6d-0ubuntu5.3) ...\n",
            "Selecting previously unselected package mongodb-server-core.\n",
            "Preparing to unpack .../4-mongodb-server-core_1%3a3.6.9+really3.6.8+90~g8e540c0b6d-0ubuntu5.3_amd64.deb ...\n",
            "Unpacking mongodb-server-core (1:3.6.9+really3.6.8+90~g8e540c0b6d-0ubuntu5.3) ...\n",
            "Selecting previously unselected package mongodb-server.\n",
            "Preparing to unpack .../5-mongodb-server_1%3a3.6.9+really3.6.8+90~g8e540c0b6d-0ubuntu5.3_all.deb ...\n",
            "Unpacking mongodb-server (1:3.6.9+really3.6.8+90~g8e540c0b6d-0ubuntu5.3) ...\n",
            "Selecting previously unselected package mongodb.\n",
            "Preparing to unpack .../6-mongodb_1%3a3.6.9+really3.6.8+90~g8e540c0b6d-0ubuntu5.3_amd64.deb ...\n",
            "Unpacking mongodb (1:3.6.9+really3.6.8+90~g8e540c0b6d-0ubuntu5.3) ...\n",
            "Setting up libpcap0.8:amd64 (1.9.1-3) ...\n",
            "Setting up libyaml-cpp0.6:amd64 (0.6.2-4ubuntu1) ...\n",
            "Setting up mongodb-clients (1:3.6.9+really3.6.8+90~g8e540c0b6d-0ubuntu5.3) ...\n",
            "Setting up mongo-tools (3.6.3-0ubuntu1) ...\n",
            "Setting up mongodb-server-core (1:3.6.9+really3.6.8+90~g8e540c0b6d-0ubuntu5.3) ...\n",
            "Setting up mongodb-server (1:3.6.9+really3.6.8+90~g8e540c0b6d-0ubuntu5.3) ...\n",
            "invoke-rc.d: could not determine current runlevel\n",
            "invoke-rc.d: policy-rc.d denied execution of start.\n",
            "Created symlink /etc/systemd/system/multi-user.target.wants/mongodb.service → /lib/systemd/system/mongodb.service.\n",
            "Setting up mongodb (1:3.6.9+really3.6.8+90~g8e540c0b6d-0ubuntu5.3) ...\n",
            "Processing triggers for man-db (2.9.1-1) ...\n",
            "Processing triggers for libc-bin (2.31-0ubuntu9.9) ...\n",
            "Processing triggers for systemd (245.4-4ubuntu3.21) ...\n",
            " * Starting database mongodb\n",
            "   ...done.\n"
          ]
        }
      ],
      "source": [
        "!apt install -qq mongodb\n",
        "!service mongodb start"
      ]
    },
    {
      "cell_type": "markdown",
      "metadata": {
        "id": "7dph1tTf4HkU"
      },
      "source": [
        "## Download dataset and push to our mongodb "
      ]
    },
    {
      "cell_type": "code",
      "execution_count": null,
      "metadata": {
        "colab": {
          "base_uri": "https://localhost:8080/"
        },
        "id": "cy-r-AQ2pZM0",
        "outputId": "2fe66b95-15dc-4032-c031-881782e3a4df"
      },
      "outputs": [
        {
          "output_type": "stream",
          "name": "stdout",
          "text": [
            "Selecting previously unselected package brotli.\n",
            "(Reading database ... \r(Reading database ... 5%\r(Reading database ... 10%\r(Reading database ... 15%\r(Reading database ... 20%\r(Reading database ... 25%\r(Reading database ... 30%\r(Reading database ... 35%\r(Reading database ... 40%\r(Reading database ... 45%\r(Reading database ... 50%\r(Reading database ... 55%\r(Reading database ... 60%\r(Reading database ... 65%\r(Reading database ... 70%\r(Reading database ... 75%\r(Reading database ... 80%\r(Reading database ... 85%\r(Reading database ... 90%\r(Reading database ... 95%\r(Reading database ... 100%\r(Reading database ... 122419 files and directories currently installed.)\n",
            "Preparing to unpack .../brotli_1.0.7-6ubuntu0.1_amd64.deb ...\n",
            "Unpacking brotli (1.0.7-6ubuntu0.1) ...\n",
            "Setting up brotli (1.0.7-6ubuntu0.1) ...\n",
            "Processing triggers for man-db (2.9.1-1) ...\n"
          ]
        }
      ],
      "source": [
        "# It's already the 21st century and people are very impatient, so they use Brotli for text and Zstd for everything else.\n",
        "# Reference: https://github.com/google/brotli\n",
        "!apt-get install -qq brotli"
      ]
    },
    {
      "cell_type": "code",
      "execution_count": null,
      "metadata": {
        "id": "XNT5v0BkpMWa"
      },
      "outputs": [],
      "source": [
        "!wget -q https://csc14118.github.io/thuoc_raw.json.br\n",
        "!wget -q https://csc14118.github.io/gia_ke_khai_raw.json.br\n",
        "!wget -q https://csc14118.github.io/movies_lang.json.br "
      ]
    },
    {
      "cell_type": "code",
      "execution_count": null,
      "metadata": {
        "id": "qqVJXO4TpQDZ"
      },
      "outputs": [],
      "source": [
        "!brotli -d *.br"
      ]
    },
    {
      "cell_type": "code",
      "execution_count": null,
      "metadata": {
        "id": "p2AGMuFp6x2u",
        "colab": {
          "base_uri": "https://localhost:8080/"
        },
        "outputId": "801a6f46-eca6-4465-b147-286011a37b1e"
      },
      "outputs": [
        {
          "output_type": "stream",
          "name": "stdout",
          "text": [
            "\u001b[2K     \u001b[90m━━━━━━━━━━━━━━━━━━━━━━━━━━━━━━━━━━━━━━\u001b[0m \u001b[32m492.1/492.1 kB\u001b[0m \u001b[31m12.7 MB/s\u001b[0m eta \u001b[36m0:00:00\u001b[0m\n",
            "\u001b[2K     \u001b[90m━━━━━━━━━━━━━━━━━━━━━━━━━━━━━━━━━━━━━━\u001b[0m \u001b[32m283.7/283.7 kB\u001b[0m \u001b[31m25.2 MB/s\u001b[0m eta \u001b[36m0:00:00\u001b[0m\n",
            "\u001b[?25h"
          ]
        }
      ],
      "source": [
        "!pip install -q pymongo"
      ]
    },
    {
      "cell_type": "code",
      "execution_count": null,
      "metadata": {
        "id": "4lGAVCVCpz_9",
        "colab": {
          "base_uri": "https://localhost:8080/"
        },
        "outputId": "ceba0aa4-2d3f-4409-fcb0-45f35df84fdb"
      },
      "outputs": [
        {
          "output_type": "execute_result",
          "data": {
            "text/plain": [
              "['admin', 'config', 'dummy', 'input_data', 'local']"
            ]
          },
          "metadata": {},
          "execution_count": 6
        }
      ],
      "source": [
        "import json\n",
        "from pymongo import MongoClient\n",
        "\n",
        "client = MongoClient()\n",
        "\n",
        "# Creation of the new database\n",
        "db = client['input_data']\n",
        "\n",
        "collection_name = [\"gia_ke_khai_raw\", \"movies_lang\", \"thuoc_raw\"]\n",
        "\n",
        "# Push our data to mongodb\n",
        "for data in collection_name:\n",
        "    collection = db[data]\n",
        "    chunks = json.load(open(f'{data}.json'))\n",
        "    collection.insert_many(chunks)\n",
        "\n",
        "# Create a dummy database to test\n",
        "db = client['dummy']\n",
        "db['chunks'].insert_many([{'Banh xeo': 'Rat ngon'},{'Banh bao': 'Cung ngon'}])\n",
        "\n",
        "client.list_database_names()"
      ]
    },
    {
      "cell_type": "markdown",
      "metadata": {
        "id": "BPgvKHYi46Zh"
      },
      "source": [
        "## Install pyspark"
      ]
    },
    {
      "cell_type": "code",
      "execution_count": null,
      "metadata": {
        "id": "3BQOC48fkpMX"
      },
      "outputs": [],
      "source": [
        "!apt-get install openjdk-8-jdk-headless -qq > /dev/null\n",
        "!wget -q \"https://archive.apache.org/dist/spark/spark-3.1.1/spark-3.1.1-bin-hadoop2.7.tgz\"\n",
        "!tar xf spark-3.1.1-bin-hadoop2.7.tgz\n",
        "!pip install -q findspark"
      ]
    },
    {
      "cell_type": "code",
      "execution_count": null,
      "metadata": {
        "id": "nJFxkwtAkt3U",
        "colab": {
          "base_uri": "https://localhost:8080/",
          "height": 36
        },
        "outputId": "583f2c2a-3ad0-4fb7-e51b-79b827c6f0a4"
      },
      "outputs": [
        {
          "output_type": "execute_result",
          "data": {
            "text/plain": [
              "'spark-3.1.1-bin-hadoop2.7'"
            ],
            "application/vnd.google.colaboratory.intrinsic+json": {
              "type": "string"
            }
          },
          "metadata": {},
          "execution_count": 8
        }
      ],
      "source": [
        "import os\n",
        "os.environ[\"JAVA_HOME\"] = \"/usr/lib/jvm/java-8-openjdk-amd64\"\n",
        "os.environ[\"SPARK_HOME\"] = \"spark-3.1.1-bin-hadoop2.7\"\n",
        "import findspark\n",
        "findspark.init()\n",
        "findspark.find()"
      ]
    },
    {
      "cell_type": "code",
      "execution_count": null,
      "metadata": {
        "id": "qgjKoGjDzZgu",
        "colab": {
          "base_uri": "https://localhost:8080/"
        },
        "outputId": "22981083-8644-4d11-914d-d6ac3bdcacb2"
      },
      "outputs": [
        {
          "output_type": "stream",
          "name": "stdout",
          "text": [
            "3.1.1\n"
          ]
        }
      ],
      "source": [
        "import pyspark\n",
        "print(pyspark.__version__)"
      ]
    },
    {
      "cell_type": "markdown",
      "metadata": {
        "id": "N4x3MtDq494s"
      },
      "source": [
        "## Dirty trick to connect spark to our mongodb\n",
        "\n",
        "In industry environment, please read the docs carefully to seting up these complicated things."
      ]
    },
    {
      "cell_type": "code",
      "execution_count": null,
      "metadata": {
        "id": "J3kZd3CZNIY-",
        "colab": {
          "base_uri": "https://localhost:8080/"
        },
        "outputId": "faed2797-bc73-4d81-97da-c9591954e511"
      },
      "outputs": [
        {
          "output_type": "stream",
          "name": "stdout",
          "text": [
            "rm: cannot remove 'spark-3.1.1-bin-hadoop2.7/jars/mongo*.jar': No such file or directory\n",
            "rm: cannot remove 'spark-3.1.1-bin-hadoop2.7/jars/bson*.jar': No such file or directory\n"
          ]
        }
      ],
      "source": [
        "!rm $SPARK_HOME/jars/mongo*.jar\n",
        "!rm $SPARK_HOME/jars/bson*.jar"
      ]
    },
    {
      "cell_type": "code",
      "execution_count": null,
      "metadata": {
        "id": "wPavC4NBR0fn",
        "colab": {
          "base_uri": "https://localhost:8080/"
        },
        "outputId": "9c2df3a3-85ff-4fc0-dbad-4f9019112372"
      },
      "outputs": [
        {
          "output_type": "stream",
          "name": "stdout",
          "text": [
            "--2023-04-24 16:47:43--  https://repo1.maven.org/maven2/org/mongodb/spark/mongo-spark-connector_2.12/10.1.1/mongo-spark-connector_2.12-10.1.1.jar\n",
            "Resolving repo1.maven.org (repo1.maven.org)... 199.232.192.209, 199.232.196.209, 2a04:4e42:4c::209, ...\n",
            "Connecting to repo1.maven.org (repo1.maven.org)|199.232.192.209|:443... connected.\n",
            "HTTP request sent, awaiting response... 200 OK\n",
            "Length: 156368 (153K) [application/java-archive]\n",
            "Saving to: ‘mongo-spark-connector_2.12-10.1.1.jar’\n",
            "\n",
            "\r          mongo-spa   0%[                    ]       0  --.-KB/s               \rmongo-spark-connect 100%[===================>] 152.70K  --.-KB/s    in 0.01s   \n",
            "\n",
            "2023-04-24 16:47:43 (11.5 MB/s) - ‘mongo-spark-connector_2.12-10.1.1.jar’ saved [156368/156368]\n",
            "\n",
            "--2023-04-24 16:47:43--  https://repo1.maven.org/maven2/org/mongodb/mongodb-driver/3.12.13/mongodb-driver-3.12.13.jar\n",
            "Resolving repo1.maven.org (repo1.maven.org)... 199.232.192.209, 199.232.196.209, 2a04:4e42:4c::209, ...\n",
            "Connecting to repo1.maven.org (repo1.maven.org)|199.232.192.209|:443... connected.\n",
            "HTTP request sent, awaiting response... 200 OK\n",
            "Length: 375474 (367K) [application/java-archive]\n",
            "Saving to: ‘mongodb-driver-3.12.13.jar’\n",
            "\n",
            "mongodb-driver-3.12 100%[===================>] 366.67K  --.-KB/s    in 0.02s   \n",
            "\n",
            "2023-04-24 16:47:44 (16.6 MB/s) - ‘mongodb-driver-3.12.13.jar’ saved [375474/375474]\n",
            "\n",
            "--2023-04-24 16:47:44--  https://repo1.maven.org/maven2/org/mongodb/mongo-java-driver/3.12.13/mongo-java-driver-3.12.13.jar\n",
            "Resolving repo1.maven.org (repo1.maven.org)... 199.232.192.209, 199.232.196.209, 2a04:4e42:4c::209, ...\n",
            "Connecting to repo1.maven.org (repo1.maven.org)|199.232.192.209|:443... connected.\n",
            "HTTP request sent, awaiting response... 200 OK\n",
            "Length: 2314879 (2.2M) [application/java-archive]\n",
            "Saving to: ‘mongo-java-driver-3.12.13.jar’\n",
            "\n",
            "mongo-java-driver-3 100%[===================>]   2.21M  --.-KB/s    in 0.05s   \n",
            "\n",
            "2023-04-24 16:47:44 (43.2 MB/s) - ‘mongo-java-driver-3.12.13.jar’ saved [2314879/2314879]\n",
            "\n",
            "--2023-04-24 16:47:44--  https://repo1.maven.org/maven2/org/mongodb/bson/4.9.1/bson-4.9.1.jar\n",
            "Resolving repo1.maven.org (repo1.maven.org)... 199.232.192.209, 199.232.196.209, 2a04:4e42:4c::209, ...\n",
            "Connecting to repo1.maven.org (repo1.maven.org)|199.232.192.209|:443... connected.\n",
            "HTTP request sent, awaiting response... 200 OK\n",
            "Length: 506403 (495K) [application/java-archive]\n",
            "Saving to: ‘bson-4.9.1.jar’\n",
            "\n",
            "bson-4.9.1.jar      100%[===================>] 494.53K  --.-KB/s    in 0.02s   \n",
            "\n",
            "2023-04-24 16:47:44 (22.9 MB/s) - ‘bson-4.9.1.jar’ saved [506403/506403]\n",
            "\n"
          ]
        }
      ],
      "source": [
        "# Used this cell for solving conflict dependency which caused error\n",
        "!cd $SPARK_HOME/jars && wget https://repo1.maven.org/maven2/org/mongodb/spark/mongo-spark-connector_2.12/10.1.1/mongo-spark-connector_2.12-10.1.1.jar\n",
        "!cd $SPARK_HOME/jars && wget https://repo1.maven.org/maven2/org/mongodb/mongodb-driver/3.12.13/mongodb-driver-3.12.13.jar\n",
        "!cd $SPARK_HOME/jars && wget https://repo1.maven.org/maven2/org/mongodb/mongo-java-driver/3.12.13/mongo-java-driver-3.12.13.jar\n",
        "!cd $SPARK_HOME/jars && wget https://repo1.maven.org/maven2/org/mongodb/bson/4.9.1/bson-4.9.1.jar"
      ]
    },
    {
      "cell_type": "code",
      "source": [
        "# This code will produce error\n",
        "# !cd $SPARK_HOME/jars && wget https://repo1.maven.org/maven2/org/mongodb/spark/mongo-spark-connector_2.12/10.1.1/mongo-spark-connector_2.12-10.1.1.jar\n",
        "# !cd $SPARK_HOME/jars && wget https://repo1.maven.org/maven2/org/mongodb/mongodb-driver/3.12.12/mongodb-driver-3.12.12.jar\n",
        "# !cd $SPARK_HOME/jars && wget https://repo1.maven.org/maven2/org/mongodb/mongo-java-driver/3.12.12/mongo-java-driver-3.12.12.jar\n",
        "# !cd $SPARK_HOME/jars && wget https://repo1.maven.org/maven2/org/mongodb/bson/4.6.0/bson-4.6.0.jar"
      ],
      "metadata": {
        "id": "m0tW22jRBRw0"
      },
      "execution_count": null,
      "outputs": []
    },
    {
      "cell_type": "code",
      "execution_count": null,
      "metadata": {
        "id": "E9Z415K4fRED",
        "colab": {
          "base_uri": "https://localhost:8080/"
        },
        "outputId": "bbef122a-77fe-4a6f-faf1-bcc2a3f74bd4"
      },
      "outputs": [
        {
          "output_type": "stream",
          "name": "stdout",
          "text": [
            "Welcome to\n",
            "      ____              __\n",
            "     / __/__  ___ _____/ /__\n",
            "    _\\ \\/ _ \\/ _ `/ __/  '_/\n",
            "   /__ / .__/\\_,_/_/ /_/\\_\\   version 3.1.1\n",
            "      /_/\n",
            "\n",
            "Using Python version 3.9.16 (main, Dec  7 2022 01:11:51)\n",
            "Spark context Web UI available at http://f70a865cf7e0:4040\n",
            "Spark context available as 'sc' (master = local[*], app id = local-1682354873557).\n",
            "SparkSession available as 'spark'.\n"
          ]
        }
      ],
      "source": [
        "from pyspark.shell import spark\n",
        "from pyspark import SparkContext,SparkConf\n",
        "\n",
        "uri = \"mongodb://localhost:27017/input_data\"\n",
        "\n",
        "from pyspark.sql import SparkSession\n",
        "\n",
        "spark_jb = \"org.mongodb.spark:mongo-spark-connector_2.12:10.1.1\"\n",
        "my_spark = SparkSession \\\n",
        "    .builder \\\n",
        "    .config(\"spark.executor.memory\", \"1g\") \\\n",
        "    .appName(\"csc14112\") \\\n",
        "    .config(\"spark.mongodb.read.connection.uri\", uri) \\\n",
        "    .config(\"spark.mongodb.write.connection.uri\", uri) \\\n",
        "    .getOrCreate()"
      ]
    },
    {
      "cell_type": "code",
      "execution_count": null,
      "metadata": {
        "id": "VIcRV6NEfdM5",
        "colab": {
          "base_uri": "https://localhost:8080/"
        },
        "outputId": "dc3d1c62-e045-42e7-b21e-406073e7cf7a"
      },
      "outputs": [
        {
          "output_type": "stream",
          "name": "stdout",
          "text": [
            "root\n",
            "\n"
          ]
        }
      ],
      "source": [
        "# Test read data from our mongo db\n",
        "p = my_spark.read.format(\"mongodb\").option(\"database\",\"dummy\").option(\"collection\", \"chunk\").load()\n",
        "p.printSchema()"
      ]
    },
    {
      "cell_type": "code",
      "execution_count": null,
      "metadata": {
        "id": "7QDbkF7Wpl4f",
        "colab": {
          "base_uri": "https://localhost:8080/"
        },
        "outputId": "a0a3c431-ee81-4684-b7b2-2714b59ff5b7"
      },
      "outputs": [
        {
          "output_type": "stream",
          "name": "stdout",
          "text": [
            "++\n",
            "||\n",
            "++\n",
            "++\n",
            "\n"
          ]
        }
      ],
      "source": [
        "p.show()"
      ]
    },
    {
      "cell_type": "markdown",
      "metadata": {
        "id": "OOBcV-zg8IPv"
      },
      "source": [
        "# Part 1: Introduction to PySpark"
      ]
    },
    {
      "cell_type": "markdown",
      "metadata": {
        "id": "LejimkJO8u6A"
      },
      "source": [
        "\n",
        "In this lab assignment, we will work with a movie dataset loaded into our MongoDB at `input_data.movies_lang`. We will use PySpark RDD and DataFrame to perform the following tasks:"
      ]
    },
    {
      "cell_type": "code",
      "execution_count": null,
      "metadata": {
        "colab": {
          "base_uri": "https://localhost:8080/"
        },
        "id": "29SbDUgzQksL",
        "outputId": "c6ee4693-b450-4e42-bc0c-a2e1afb85957"
      },
      "outputs": [
        {
          "output_type": "stream",
          "name": "stdout",
          "text": [
            "root\n",
            " |-- _id: string (nullable = true)\n",
            " |-- actors: array (nullable = true)\n",
            " |    |-- element: struct (containsNull = true)\n",
            " |    |    |-- _id: string (nullable = true)\n",
            " |    |    |-- first_name: string (nullable = true)\n",
            " |    |    |-- last_name: string (nullable = true)\n",
            " |    |    |-- birth_date: string (nullable = true)\n",
            " |    |    |-- role: string (nullable = true)\n",
            " |-- country: string (nullable = true)\n",
            " |-- director: struct (nullable = true)\n",
            " |    |-- _id: string (nullable = true)\n",
            " |    |-- last_name: string (nullable = true)\n",
            " |    |-- first_name: string (nullable = true)\n",
            " |    |-- birth_date: string (nullable = true)\n",
            " |-- genre: string (nullable = true)\n",
            " |-- languages: array (nullable = true)\n",
            " |    |-- element: string (containsNull = true)\n",
            " |-- title: string (nullable = true)\n",
            " |-- year: integer (nullable = true)\n",
            "\n",
            "+--------+--------------------+-------+--------------------+---------------+--------------------+--------------------+----+\n",
            "|     _id|              actors|country|            director|          genre|           languages|               title|year|\n",
            "+--------+--------------------+-------+--------------------+---------------+--------------------+--------------------+----+\n",
            "| movie:1|[{artist:15, Jame...|     DE|{artist:3, Hitchc...|          drama|                [el]|             Vertigo|1958|\n",
            "| movie:2|[{artist:5, Sigou...|    USA|{artist:4, Scott,...|Science-fiction|    [el, en, it, es]|               Alien|1979|\n",
            "| movie:3|[{artist:109, Kat...|    USA|{artist:6, Camero...|          drama|[el, de, it, en, ...|             Titanic|1997|\n",
            "| movie:4|                  []|     FR|{artist:9, Tarkov...|          drama|[en, it, el, fr, de]|           Sacrifice|1986|\n",
            "| movie:5|[{artist:11, John...|    USA|{artist:10, Woo, ...|         Action|[es, fr, en, it, ...|          Volte/Face|1997|\n",
            "| movie:6|[{artist:14, John...|    USA|{artist:13, Burto...|    Fantastique|            [it, de]|       Sleepy Hollow|1999|\n",
            "| movie:7|[{artist:18, Kevi...|    USA|{artist:17, Mende...|        Comédie|    [en, de, it, fr]|     American Beauty|1999|\n",
            "| movie:8|[{artist:20, Clin...|    USA|{artist:20, Eastw...|        Western|[en, es, it, el, de]|         Impitoyable|1992|\n",
            "| movie:9|[{artist:23, Russ...|    USA|{artist:4, Scott,...|          drama|            [en, de]|           Gladiator|2000|\n",
            "|movie:10|[{artist:24, Harr...|    USA|{artist:4, Scott,...|         Action|[es, el, it, fr, ...|        Blade Runner|1982|\n",
            "|movie:11|[{artist:27, Bruc...|    USA|{artist:26, McTie...|         Action|        [de, es, fr]|    Piège de cristal|1988|\n",
            "|movie:12|[{artist:27, Bruc...|    USA|{artist:28, Harli...|         Action|                [en]|58 minutes pour v...|1990|\n",
            "|movie:13|[{artist:30, Jacq...|     FR|{artist:29, Piala...|          drama|[fr, el, en, it, de]|            Van Gogh|1990|\n",
            "|movie:14|[{artist:18, Kevi...|    USA|{artist:31, Finch...|          crime|[en, it, fr, de, ...|               Seven|1995|\n",
            "|movie:15|[{artist:27, Bruc...|    USA|{artist:33, Gilli...|Science-fiction|        [de, es, en]|      Twelve Monkeys|1995|\n",
            "|movie:16|[{artist:35, Sean...|     FR|{artist:34, Annau...|          crime|                [el]|Le last_name de l...|1986|\n",
            "|movie:17|[{artist:11, John...|    USA|{artist:37, Taran...|         Action|[en, de, es, fr, el]|        Pulp fiction|1994|\n",
            "|movie:18|[{artist:42, Came...|    USA|{artist:41, Farre...|        Comédie|[el, it, es, en, fr]|    Mary à tout prix|1998|\n",
            "|movie:19|[{artist:44, Arno...|    USA|{artist:6, Camero...|Science-fiction|        [fr, de, es]|          Terminator|1984|\n",
            "|movie:20|[{artist:46, Roy,...|     FR|{artist:45, Spiel...|        Horreur|[en, de, it, es, el]| Les dents de la mer|1975|\n",
            "+--------+--------------------+-------+--------------------+---------------+--------------------+--------------------+----+\n",
            "only showing top 20 rows\n",
            "\n",
            "+-------+--------------------+-------+--------------------+---------------+--------------------+----------+----+\n",
            "|    _id|              actors|country|            director|          genre|           languages|     title|year|\n",
            "+-------+--------------------+-------+--------------------+---------------+--------------------+----------+----+\n",
            "|movie:1|[{artist:15, Jame...|     DE|{artist:3, Hitchc...|          drama|                [el]|   Vertigo|1958|\n",
            "|movie:2|[{artist:5, Sigou...|    USA|{artist:4, Scott,...|Science-fiction|    [el, en, it, es]|     Alien|1979|\n",
            "|movie:3|[{artist:109, Kat...|    USA|{artist:6, Camero...|          drama|[el, de, it, en, ...|   Titanic|1997|\n",
            "|movie:4|                  []|     FR|{artist:9, Tarkov...|          drama|[en, it, el, fr, de]| Sacrifice|1986|\n",
            "|movie:5|[{artist:11, John...|    USA|{artist:10, Woo, ...|         Action|[es, fr, en, it, ...|Volte/Face|1997|\n",
            "+-------+--------------------+-------+--------------------+---------------+--------------------+----------+----+\n",
            "only showing top 5 rows\n",
            "\n"
          ]
        }
      ],
      "source": [
        "# YOUR CODE HERE\n",
        "\n",
        "from pyspark.sql.functions import col\n",
        "\n",
        "# Read data from mongodb\n",
        "dfMovies = my_spark.read.format(\"mongodb\").option(\"database\",\"input_data\").option(\"collection\",\"movies_lang\").load()\n",
        "\n",
        "dfMovies.printSchema()\n",
        "dfMovies.show()\n",
        "\n",
        "dfMovies.createOrReplaceTempView(\"Movies\")\n",
        "query = spark.sql(\"SELECT * FROM Movies\")\n",
        "query.show(5)"
      ]
    },
    {
      "cell_type": "markdown",
      "metadata": {
        "id": "mjQyMcL59FwB"
      },
      "source": [
        "### (a) Count the number of movies by country. Sort by count in decreasing order."
      ]
    },
    {
      "cell_type": "code",
      "execution_count": null,
      "metadata": {
        "id": "qOKzEl44nj6V",
        "colab": {
          "base_uri": "https://localhost:8080/"
        },
        "outputId": "9360c7a4-41ed-4f2e-c25d-4d1ae2ff6daa"
      },
      "outputs": [
        {
          "output_type": "stream",
          "name": "stdout",
          "text": [
            "+-------+-----+\n",
            "|country|count|\n",
            "+-------+-----+\n",
            "|    USA|   67|\n",
            "|     FR|   17|\n",
            "|     IT|    2|\n",
            "|     DE|    1|\n",
            "|     JP|    1|\n",
            "+-------+-----+\n",
            "\n"
          ]
        }
      ],
      "source": [
        "# YOUR CODE HERE\n",
        "from pyspark.sql import functions as f\n",
        "dfMovies.groupBy('country') \\\n",
        "        .count() \\\n",
        "        .orderBy(f.desc('count')) \\\n",
        "        .show()"
      ]
    },
    {
      "cell_type": "markdown",
      "metadata": {
        "id": "Gi9OiL_K8610"
      },
      "source": [
        "### (b) Return the titles of the movies produced in France."
      ]
    },
    {
      "cell_type": "code",
      "execution_count": null,
      "metadata": {
        "id": "nuIk85yf-5EX",
        "colab": {
          "base_uri": "https://localhost:8080/"
        },
        "outputId": "cfe3ae12-fda0-4881-e376-57cd4fcd7cb4"
      },
      "outputs": [
        {
          "output_type": "stream",
          "name": "stdout",
          "text": [
            "+--------------------+\n",
            "|               title|\n",
            "+--------------------+\n",
            "|           Sacrifice|\n",
            "|            Van Gogh|\n",
            "|Le last_name de l...|\n",
            "| Les dents de la mer|\n",
            "|Le gendarme et le...|\n",
            "|Les bronzés font ...|\n",
            "|             Shining|\n",
            "|        Jeanne d'Arc|\n",
            "|Le cinquième élément|\n",
            "|                Léon|\n",
            "|              Nikita|\n",
            "|       Le grand bleu|\n",
            "|De bruit et de fu...|\n",
            "|Les quatre cents ...|\n",
            "|    Le dernier métro|\n",
            "|         Un prophète|\n",
            "|  Nous trois ou rien|\n",
            "+--------------------+\n",
            "\n"
          ]
        }
      ],
      "source": [
        "# YOUR CODE HERE\n",
        "dfMovies.where(col('country') == \"FR\").select(\"title\").distinct().show()"
      ]
    },
    {
      "cell_type": "markdown",
      "metadata": {
        "id": "RWIrwllI-9LI"
      },
      "source": [
        "### (c) Return the title of the movies of which Sofia Coppola is one of the actresses. "
      ]
    },
    {
      "cell_type": "code",
      "execution_count": null,
      "metadata": {
        "colab": {
          "base_uri": "https://localhost:8080/"
        },
        "id": "XznCrQxy-858",
        "outputId": "78ae1ea0-506c-4207-998d-0f9038548153"
      },
      "outputs": [
        {
          "output_type": "stream",
          "name": "stdout",
          "text": [
            "+--------------+\n",
            "|         title|\n",
            "+--------------+\n",
            "|Le parrain III|\n",
            "+--------------+\n",
            "\n"
          ]
        }
      ],
      "source": [
        "# YOUR CODE HERE\n",
        "from pyspark.sql.functions import array_contains, split\n",
        "\n",
        "dfMovies.where( array_contains(col('actors.first_name'), \"Sofia\")).where( array_contains(col('actors.last_name'), \"Coppola\")).select(\"title\").distinct().show()"
      ]
    },
    {
      "cell_type": "markdown",
      "metadata": {
        "id": "rqtvCzPV_Con"
      },
      "source": [
        "### (d) Return the names and birth dates of the directors of movies produced in France.\n"
      ]
    },
    {
      "cell_type": "code",
      "execution_count": null,
      "metadata": {
        "colab": {
          "base_uri": "https://localhost:8080/"
        },
        "id": "ZBzAdOj8_Cb3",
        "outputId": "eb946d58-d20b-48ee-c82f-d2a8942ede36"
      },
      "outputs": [
        {
          "output_type": "stream",
          "name": "stdout",
          "text": [
            "+---------+------------+----------+\n",
            "|last_name|  first_name|birth_date|\n",
            "+---------+------------+----------+\n",
            "|Tarkovski|      Andrei|      1932|\n",
            "|   Pialat|     Maurice|      1925|\n",
            "|   Annaud|Jean-Jacques|      1943|\n",
            "|Spielberg|      Steven|      1946|\n",
            "|  Girault|        Jean|      1924|\n",
            "|  Leconte|     Patrice|      1947|\n",
            "|  Kubrick|     Stanley|      1928|\n",
            "|   Besson|         Luc|      1959|\n",
            "|  Chabrol|      Claude|      1930|\n",
            "| Truffaut|    François|      null|\n",
            "|  Audiard|     Jacques|      1952|\n",
            "|  Kheiron|       Tabib|      null|\n",
            "+---------+------------+----------+\n",
            "\n"
          ]
        }
      ],
      "source": [
        "# YOUR CODE HERE\n",
        "dfMovies.where(col('country') == \"FR\").selectExpr(\"director.last_name\", \"director.first_name\", \"director.birth_date\").distinct().show()\n",
        "\n",
        "#raise NotImplementedError"
      ]
    },
    {
      "cell_type": "markdown",
      "metadata": {
        "id": "jtYnldOV_MXj"
      },
      "source": [
        "### (e) Return the average number of actors in a film.\n"
      ]
    },
    {
      "cell_type": "code",
      "execution_count": null,
      "metadata": {
        "colab": {
          "base_uri": "https://localhost:8080/"
        },
        "id": "RQmY486U_PaW",
        "outputId": "7e21ead8-0e10-4b3c-92fd-b2a01446e10a"
      },
      "outputs": [
        {
          "output_type": "stream",
          "name": "stdout",
          "text": [
            "3\n"
          ]
        }
      ],
      "source": [
        "import math\n",
        "data_select = spark.sql(\"select actors from Movies\")\n",
        "n_rows = data_select.count()\n",
        "sum = 0\n",
        "for i in range(n_rows):\n",
        "  row = data_select.collect()[i][0];\n",
        "  sum = sum + len(row)\n",
        "avg = math.ceil(sum / n_rows)\n",
        "print(avg)"
      ]
    },
    {
      "cell_type": "markdown",
      "metadata": {
        "id": "vbZmOOAz_RDj"
      },
      "source": [
        "### (f) Return the name of the actor that acted in the most movies."
      ]
    },
    {
      "cell_type": "code",
      "execution_count": null,
      "metadata": {
        "id": "V6ZKk9Ts_StS",
        "outputId": "69470da5-df20-4742-b92b-a371d1565b56",
        "colab": {
          "base_uri": "https://localhost:8080/"
        }
      },
      "outputs": [
        {
          "output_type": "stream",
          "name": "stdout",
          "text": [
            "Actor: Row(_id='artist:27', first_name='Bruce', last_name='Willis', birth_date='1955', role='McClane')\n",
            "Amount: 3\n"
          ]
        }
      ],
      "source": [
        "import json\n",
        "import numpy as np\n",
        "from collections import Counter\n",
        "\n",
        "data_select = spark.sql(\"select actors from Movies\")\n",
        "n_rows = data_select.count()\n",
        "\n",
        "# mang all_actors chứa toàn bộ danh sách actors\n",
        "all_actors = []\n",
        "for i in range(n_rows):\n",
        "  row = data_select.collect()[i][0];\n",
        "  for j in range(len(row)):\n",
        "    all_actors.append(row[j])\n",
        "\n",
        "# nếu mảng all_actors không có phần tử nào thì không tìm được actor thỏa điều kiện\n",
        "if (len(all_actors) == 0):\n",
        "  print(\"no one\")\n",
        "else:\n",
        "  # Khởi tạo bộ đếm trong thư viện Counter\n",
        "  counter = Counter(all_actors)\n",
        "  # Tìm phần tử xuất hiện nhiều nhất\n",
        "  temp = counter.most_common(1)\n",
        "  # Trích xuất thông tin tìm được\n",
        "  actor = temp[0][0]\n",
        "  amount = temp[0][1]\n",
        "  print(\"Actor:\", actor)\n",
        "  print(\"Amount:\", amount)"
      ]
    },
    {
      "cell_type": "markdown",
      "metadata": {
        "id": "1p8qOmwE8MU8"
      },
      "source": [
        "# Part 2: Real-world Data Manipulation"
      ]
    },
    {
      "cell_type": "markdown",
      "metadata": {
        "id": "6Xjjk5Sg_xuO"
      },
      "source": [
        "In this part of the lab, we will work with two collections in our MongoDB: `gia_ke_khai_raw` and `thuoc_raw` loaded at `input_data.gia_ke_khai_raw` and `input_data.thuoc_raw` respectively. We will use PySpark RDD and DataFrame to perform the following tasks:"
      ]
    },
    {
      "cell_type": "markdown",
      "metadata": {
        "id": "QJXKtUUkHDLn"
      },
      "source": [
        "### (a)  Read the datasets into a DataFrame and print out the schema and the number of records."
      ]
    },
    {
      "cell_type": "code",
      "execution_count": null,
      "metadata": {
        "colab": {
          "base_uri": "https://localhost:8080/"
        },
        "id": "BsEKB1yk_o7d",
        "outputId": "b35f246f-8add-4192-dfdd-0ad34b262213"
      },
      "outputs": [
        {
          "output_type": "stream",
          "name": "stdout",
          "text": [
            "root\n",
            " |-- _id: string (nullable = true)\n",
            " |-- baoChe: string (nullable = true)\n",
            " |-- chuY: string (nullable = true)\n",
            " |-- congTyDk: string (nullable = true)\n",
            " |-- congTySx: string (nullable = true)\n",
            " |-- congTySxCode: string (nullable = true)\n",
            " |-- diaChiDk: string (nullable = true)\n",
            " |-- diaChiSx: string (nullable = true)\n",
            " |-- dongGoi: string (nullable = true)\n",
            " |-- dotPheDuyet: string (nullable = true)\n",
            " |-- giaKeKhai: null (nullable = true)\n",
            " |-- hieuLuc: null (nullable = true)\n",
            " |-- hoatChat: string (nullable = true)\n",
            " |-- huongDanSuDung: null (nullable = true)\n",
            " |-- huongDanSuDungBn: null (nullable = true)\n",
            " |-- id: string (nullable = true)\n",
            " |-- images: array (nullable = true)\n",
            " |    |-- element: string (containsNull = true)\n",
            " |-- isHide: string (nullable = true)\n",
            " |-- meta: struct (nullable = true)\n",
            " |    |-- fileName: string (nullable = true)\n",
            " |-- nhomThuoc: string (nullable = true)\n",
            " |-- nongDo: string (nullable = true)\n",
            " |-- nuocDk: string (nullable = true)\n",
            " |-- nuocSx: string (nullable = true)\n",
            " |-- phanLoai: string (nullable = true)\n",
            " |-- pheDuyet: string (nullable = true)\n",
            " |-- rate: string (nullable = true)\n",
            " |-- rows: array (nullable = true)\n",
            " |    |-- element: string (containsNull = true)\n",
            " |-- rutSdk: integer (nullable = true)\n",
            " |-- rutSdkFile: array (nullable = true)\n",
            " |    |-- element: string (containsNull = true)\n",
            " |-- soDangKy: string (nullable = true)\n",
            " |-- soQuyetDinh: string (nullable = true)\n",
            " |-- state: integer (nullable = true)\n",
            " |-- taDuoc: string (nullable = true)\n",
            " |-- ten: null (nullable = true)\n",
            " |-- tenThuoc: string (nullable = true)\n",
            " |-- tieuChuan: string (nullable = true)\n",
            " |-- tuoiTho: string (nullable = true)\n",
            "\n",
            "+--------------------+------+----+--------------------+--------------------+------------+--------------------+--------------------+--------------------+-----------+---------+-------+--------------------+--------------+----------------+-----------+------+------+------+---------+------+--------+--------+--------+----------+-----+----+------+----------+-----------+-----------+-----+------+----+--------------------+---------+--------+\n",
            "|                 _id|baoChe|chuY|            congTyDk|            congTySx|congTySxCode|            diaChiDk|            diaChiSx|             dongGoi|dotPheDuyet|giaKeKhai|hieuLuc|            hoatChat|huongDanSuDung|huongDanSuDungBn|         id|images|isHide|  meta|nhomThuoc|nongDo|  nuocDk|  nuocSx|phanLoai|  pheDuyet| rate|rows|rutSdk|rutSdkFile|   soDangKy|soQuyetDinh|state|taDuoc| ten|            tenThuoc|tieuChuan| tuoiTho|\n",
            "+--------------------+------+----+--------------------+--------------------+------------+--------------------+--------------------+--------------------+-----------+---------+-------+--------------------+--------------+----------------+-----------+------+------+------+---------+------+--------+--------+--------+----------+-----+----+------+----------+-----------+-----------+-----+------+----+--------------------+---------+--------+\n",
            "|6446b2885dfb86b48...|      |null|Công ty cổ phần d...|Công ty cổ phần d...|    PHARBACO|160 - Tôn Đức Thắ...|160 - Tôn Đức Thắ...|   Hộp 2 vỉ x 7 viên|        119|     null|   null|amoxicilin  500mg...|          null|            null|VD-10418-10|    []|   Yes|{null}| Tân dược|      |Việt Nam|Việt Nam|    null|24/02/2010|018.5|  []|     0|        []|VD-10418-10|  42/QĐ-QLD|  202|  null|null|Amogentine 500mg/...|     TCCS|24 tháng|\n",
            "|6446b2885dfb86b48...|      |null|Công ty cổ phần d...|Công ty cổ phần d...|    PHARBACO|160 - Tôn Đức Thắ...|160 - Tôn Đức Thắ...|Hộp 3 vỉ x 4 viên...|        119|     null|   null|  levofloxacin 250mg|          null|            null|VD-10419-10|    []|   Yes|{null}| Tân dược|      |Việt Nam|Việt Nam|    null|24/02/2010|005.0|  []|     0|        []|VD-10419-10|  42/QĐ-QLD|  202|  null|null|             PQAlevo|     TCCS|36 tháng|\n",
            "|6446b2885dfb86b48...|      |null|Công ty cổ phần d...|Công ty cổ phần d...|   FORIPHARM|Xã Nam Sơn, huyện...|Xã Nam Sơn, huyện...|Lọ 100 viên, 250 ...|        119|     null|   null|Berberin clorid 0...|          null|            null|VD-10420-10|    []|   Yes|{null}| Tân dược|      |Việt Nam|Việt Nam|    null|24/02/2010|005.0|  []|     0|        []|VD-10420-10|  42/QĐ-QLD|  202|  null|null|      Berberin 0,01g|   DĐVN 3|24 tháng|\n",
            "|6446b2885dfb86b48...|      |null|Công ty cổ phần d...|Công ty cổ phần d...|   FORIPHARM|Xã Nam Sơn, huyện...|Xã Nam Sơn, huyện...|Hộp 5 vỉ, 10 vỉ, ...|        119|     null|   null|Berberin clorid 0...|          null|            null|VD-10421-10|    []|   Yes|{null}| Tân dược|      |Việt Nam|Việt Nam|    null|24/02/2010|005.0|  []|     0|        []|VD-10421-10|  42/QĐ-QLD|  202|  null|null|      Berberin 0,05g|     TCCS|36 tháng|\n",
            "|6446b2885dfb86b48...|      |null|Công ty cổ phần d...|Công ty cổ phần d...|   FORIPHARM|Xã Nam Sơn, huyện...|Xã Nam Sơn, huyện...|Hộp 10 vỉ x 10 vi...|        119|     null|   null|Doxycyclin hydroc...|          null|            null|VD-10422-10|    []|   Yes|{null}| Tân dược|      |Việt Nam|Việt Nam|    null|24/02/2010|005.0|  []|     0|        []|VD-10422-10|  42/QĐ-QLD|  202|  null|null|Doxycyclin TW3 10...|   DĐVN 3|24 tháng|\n",
            "+--------------------+------+----+--------------------+--------------------+------------+--------------------+--------------------+--------------------+-----------+---------+-------+--------------------+--------------+----------------+-----------+------+------+------+---------+------+--------+--------+--------+----------+-----+----+------+----------+-----------+-----------+-----+------+----+--------------------+---------+--------+\n",
            "only showing top 5 rows\n",
            "\n",
            "38945\n",
            "root\n",
            " |-- _id: string (nullable = true)\n",
            " |-- doanhNghiepDk: string (nullable = true)\n",
            " |-- doanhNghiepSx: string (nullable = true)\n",
            " |-- dongGoi: string (nullable = true)\n",
            " |-- dvt: string (nullable = true)\n",
            " |-- giaBan: string (nullable = true)\n",
            " |-- hoatChat: null (nullable = true)\n",
            " |-- id: string (nullable = true)\n",
            " |-- image: null (nullable = true)\n",
            " |-- ngayBaoCao: string (nullable = true)\n",
            " |-- ngayVanBan: null (nullable = true)\n",
            " |-- nongDo: null (nullable = true)\n",
            " |-- sdk: string (nullable = true)\n",
            " |-- soVanBan: null (nullable = true)\n",
            " |-- stt: null (nullable = true)\n",
            " |-- tenThuoc: null (nullable = true)\n",
            "\n",
            "+--------------------+--------------------+-------------+--------------------+----+------+--------+--------------------+-----+----------+----------+------+-----------+--------+----+--------+\n",
            "|                 _id|       doanhNghiepDk|doanhNghiepSx|             dongGoi| dvt|giaBan|hoatChat|                  id|image|ngayBaoCao|ngayVanBan|nongDo|        sdk|soVanBan| stt|tenThuoc|\n",
            "+--------------------+--------------------+-------------+--------------------+----+------+--------+--------------------+-----+----------+----------+------+-----------+--------+----+--------+\n",
            "|6446b2855dfb86b48...|Công ty cổ phần d...|         null|Hộp 6 vỉ x 10 viê...|Viên|  3000|    null|5d4947f46f6a36432...| null|26/03/2019|      null|  null|VD-31633-19|    null|null|    null|\n",
            "|6446b2855dfb86b48...|Công ty cổ phần d...|         null|   Hộp 2 vỉ x 7 viên|Viên|450000|    null|5d4947f46f6a36432...| null|26/03/2019|      null|  null|VD-30908-18|    null|null|    null|\n",
            "|6446b2855dfb86b48...|Công ty cổ phần d...|         null|  Hộp 6 vỉ x 10 viên|Viên|  6000|    null|5d4947f46f6a36432...| null|26/03/2019|      null|  null|VD-31634-19|    null|null|    null|\n",
            "|6446b2855dfb86b48...|Công ty cổ phần d...|         null|        Hộp 100 viên|Viên|   800|    null|5d4947f46f6a36432...| null|26/03/2019|      null|  null|VD-28717-18|    null|null|    null|\n",
            "|6446b2855dfb86b48...|Công ty TNHH dược...|         null|  Hộp 6 vỉ x 10 viên|Viên|  4000|    null|5d4947f46f6a36432...| null|27/03/2019|      null|  null|VD-32382-19|    null|null|    null|\n",
            "+--------------------+--------------------+-------------+--------------------+----+------+--------+--------------------+-----+----------+----------+------+-----------+--------+----+--------+\n",
            "only showing top 5 rows\n",
            "\n",
            "62197\n"
          ]
        }
      ],
      "source": [
        "# YOUR CODE HERE\n",
        "dfDrugs = my_spark.read.format(\"mongodb\").option(\"database\",\"input_data\").option(\"collection\",\"thuoc_raw\").load()\n",
        "\n",
        "dfDrugs.printSchema()\n",
        "dfDrugs.show(5)\n",
        "print(dfDrugs.count())\n",
        "\n",
        "dfPrices = my_spark.read.format(\"mongodb\").option(\"database\",\"input_data\").option(\"collection\",\"gia_ke_khai_raw\").load()\n",
        "\n",
        "dfPrices.printSchema()\n",
        "dfPrices.show(5)\n",
        "print(dfPrices.count())"
      ]
    },
    {
      "cell_type": "markdown",
      "metadata": {
        "id": "KrwAxI--bzks"
      },
      "source": [
        "### (b) Show all records in the `thuoc_raw` collection that have the same active pharmaceutical ingredient (API) in their `hoatChat` field as their medicine name.\n",
        "\n",
        "\n",
        "Notes: In the context of medication, API stands for Active Pharmaceutical Ingredient, which is the biologically active component in a drug that produces the intended therapeutic effect. In other words, it is the chemical substance that gives a medicine its medicinal properties."
      ]
    },
    {
      "cell_type": "code",
      "execution_count": null,
      "metadata": {
        "colab": {
          "base_uri": "https://localhost:8080/"
        },
        "id": "myaTwNj8byW0",
        "outputId": "f33fbb1d-fafb-4ea9-a400-6bc99ab8f3a7"
      },
      "outputs": [
        {
          "output_type": "stream",
          "name": "stdout",
          "text": [
            "+--------------------+------+----+--------------------+--------------------+------------+--------------------+--------------------+--------------------+-----------+---------+-------+--------------------+--------------+----------------+-----------+------+------+------+---------+------+--------+--------+--------+----------+-----+----+------+----------+-----------+-----------+-----+------+----+------------------+---------+--------+\n",
            "|                 _id|baoChe|chuY|            congTyDk|            congTySx|congTySxCode|            diaChiDk|            diaChiSx|             dongGoi|dotPheDuyet|giaKeKhai|hieuLuc|            hoatChat|huongDanSuDung|huongDanSuDungBn|         id|images|isHide|  meta|nhomThuoc|nongDo|  nuocDk|  nuocSx|phanLoai|  pheDuyet| rate|rows|rutSdk|rutSdkFile|   soDangKy|soQuyetDinh|state|taDuoc| ten|          tenThuoc|tieuChuan| tuoiTho|\n",
            "+--------------------+------+----+--------------------+--------------------+------------+--------------------+--------------------+--------------------+-----------+---------+-------+--------------------+--------------+----------------+-----------+------+------+------+---------+------+--------+--------+--------+----------+-----+----+------+----------+-----------+-----------+-----+------+----+------------------+---------+--------+\n",
            "|6446b2885dfb86b48...|      |null|Công ty cổ phần d...|Công ty cổ phần d...|   FORIPHARM|Xã Nam Sơn, huyện...|Xã Nam Sơn, huyện...|Hộp 10 vỉ, 50 vỉ ...|        119|     null|   null|  Paracetamol 500 mg|          null|            null|VD-10423-10|    []|   Yes|{null}| Tân dược|      |Việt Nam|Việt Nam|    null|24/02/2010|018.5|  []|     0|        []|VD-10423-10|  42/QĐ-QLD|  202|  null|null|Paracetamol 500 mg|   DĐVN 3|24 tháng|\n",
            "|6446b2885dfb86b48...|      |null|Công ty cổ phần d...|Công ty cổ phần d...|   FORIPHARM|Xã Nam Sơn, huyện...|Xã Nam Sơn, huyện...|     Lọ 400 viên nén|        119|     null|   null|  Tetracyclin 250 mg|          null|            null|VD-10425-10|    []|   Yes|{null}| Tân dược|      |Việt Nam|Việt Nam|    null|24/02/2010|018.5|  []|     0|        []|VD-10425-10|  42/QĐ-QLD|  202|  null|null|Tetracyclin 250 mg|   DĐVN 3|24 tháng|\n",
            "|6446b2885dfb86b48...|      |null|Công ty Cổ phần D...|Công ty Cổ phần D...|    PHARBACO|160 Tôn Đức Thắng...|160 Tôn Đức Thắng...|Hộp 10 vỉ xé x 10...|        119|     null|   null|     Cimetidin 200mg|          null|            null|VD-10431-10|    []|   Yes|{null}| Tân dược|      |Việt Nam|Việt Nam|    null|24/02/2010|018.5|  []|     0|        []|VD-10431-10|  42/QĐ-QLD|  202|  null|null|   Cimetidin 200mg|   DĐVN 3|48 tháng|\n",
            "|6446b2885dfb86b48...|      |null|Công ty Cổ phần D...|Công ty Cổ phần D...|    PHARBACO|160 Tôn Đức Thắng...|160 Tôn Đức Thắng...|Hộp 10 vỉ x 10 vi...|        119|     null|   null|    Lincomycin 500mg|          null|            null|VD-10440-10|    []|   Yes|{null}| Tân dược|      |Việt Nam|Việt Nam|    null|24/02/2010|018.5|  []|     0|        []|VD-10440-10|  42/QĐ-QLD|  202|  null|null|  Lincomycin 500mg|   DĐVN 3|36 tháng|\n",
            "|6446b2885dfb86b48...|      |null|Công ty Cổ phần D...|Công ty Cổ phần D...|    PHARBACO|160 Tôn Đức Thắng...|160 Tôn Đức Thắng...|Hộp 100 ống thuốc...|        119|     null|   null|  Ouabain 0,25mg/1ml|          null|            null|VD-10446-10|    []|   Yes|{null}| Tân dược|      |Việt Nam|Việt Nam|    null|24/02/2010|018.5|  []|     0|        []|VD-10446-10|  42/QĐ-QLD|  202|  null|null|    Ouabain 0,25mg|     TCCS|36 tháng|\n",
            "|6446b2885dfb86b48...|      |null|Công ty Cổ phần D...|Công ty Cổ phần D...|    PHARBACO|160 Tôn Đức Thắng...|160 Tôn Đức Thắng...|Hộp 10 vỉ x 10 vi...|        119|     null|   null|     Piracetam 400mg|          null|            null|VD-10452-10|    []|   Yes|{null}| Tân dược|      |Việt Nam|Việt Nam|    null|24/02/2010|018.5|  []|     0|        []|VD-10452-10|  42/QĐ-QLD|  202|  null|null|         Piracetam|     TCCS|36 tháng|\n",
            "|6446b2885dfb86b48...|      |null|Công ty cổ phần d...|Công ty cổ phần d...|     VIDIPHA|18-Nguyễn Văn Trỗ...|18-Nguyễn Văn Trỗ...|Hộp 2 vỉ x 10 viê...|        119|     null|   null|  Griseofulvin 500mg|          null|            null|VD-10470-10|    []|   Yes|{null}| Tân dược|      |Việt Nam|Việt Nam|    null|24/02/2010|005.0|  []|     0|        []|VD-10470-10|  42/QĐ-QLD|  202|  null|null|Griseofulvin 500mg| DĐVN III|36 tháng|\n",
            "|6446b2885dfb86b48...|      |null|Công ty cổ phần d...|Công ty cổ phần d...|     VIDIPHA|18-Nguyễn Văn Trỗ...|18-Nguyễn Văn Trỗ...|Hộp 10 vỉ x 10 vi...|        119|     null|   null|   Indomethacin 25mg|          null|            null|VD-10471-10|    []|   Yes|{null}| Tân dược|      |Việt Nam|Việt Nam|    null|24/02/2010|005.0|  []|     0|        []|VD-10471-10|  42/QĐ-QLD|  202|  null|null| Indomethacin 25mg|     TCCS|36 tháng|\n",
            "|6446b2885dfb86b48...|      |null|Công ty cổ phần d...|Công ty cổ phần d...|     VIDIPHA|18-Nguyễn Văn Trỗ...|18-Nguyễn Văn Trỗ...|Hộp 10 vỉ x 10 vi...|        119|     null|   null|   Paracetamol 500mg|          null|            null|VD-10475-10|    []|   Yes|{null}| Tân dược|      |Việt Nam|Việt Nam|    null|24/02/2010|018.5|  []|     0|        []|VD-10475-10|  42/QĐ-QLD|  202|  null|null| Paracetamol 500mg| DĐVN III|36 tháng|\n",
            "|6446b2885dfb86b48...|      |null|Công ty cổ phần d...|Công ty cổ phần d...|     VIDIPHA|18-Nguyễn Văn Trỗ...|18-Nguyễn Văn Trỗ...|Hộp 10 vỉ x 10 vi...|        119|     null|   null|   Paracetamol 500mg|          null|            null|VD-10476-10|    []|   Yes|{null}| Tân dược|      |Việt Nam|Việt Nam|    null|24/02/2010|018.5|  []|     0|        []|VD-10476-10|  42/QĐ-QLD|  202|  null|null| Paracetamol 500mg| DĐVN III|36 tháng|\n",
            "|6446b2885dfb86b48...|      |null|Công ty cổ phần d...|Công ty cổ phần d...|     VIDIPHA|18-Nguyễn Văn Trỗ...|18-Nguyễn Văn Trỗ...|Hộp 2 vỉ x 20 viê...|        119|     null|   null|       Prednison 5mg|          null|            null|VD-10477-10|    []|   Yes|{null}| Tân dược|      |Việt Nam|Việt Nam|    null|24/02/2010|018.5|  []|     0|        []|VD-10477-10|  42/QĐ-QLD|  202|  null|null|     Prednison 5mg|     TCCS|36 tháng|\n",
            "|6446b2885dfb86b48...|      |null|Công ty cổ phần d...|Công ty cổ phần d...|     TVPHARM|27 Điện Biên Phủ,...|27 Điện Biên Phủ,...|Hộp 1 lọ + 10ml n...|        119|     null|   null|Cefuroxim natri 7...|          null|            null|VD-10489-10|    []|   Yes|{null}| Tân dược|      |Việt Nam|Việt Nam|    null|24/02/2010|005.0|  []|     0|        []|VD-10489-10|  42/QĐ-QLD|  202|  null|null|   Cefuroxim 750mg|     TCCS|36 tháng|\n",
            "|6446b2885dfb86b48...|      |null|Công ty cổ phần d...|Công ty cổ phần d...|     TVPHARM|27 Điện Biên Phủ,...|27 Điện Biên Phủ,...|Hộp 10 vỉ x 10 vi...|        119|     null|   null| Ciprofloxacin 500mg|          null|            null|VD-10492-10|    []|   Yes|{null}| Tân dược|      |Việt Nam|Việt Nam|    null|24/02/2010|018.5|  []|     0|        []|VD-10492-10|  42/QĐ-QLD|  202|  null|null|     Ciprofloxacin| DĐVN III|36 tháng|\n",
            "|6446b2885dfb86b48...|      |null|Công ty cổ phần d...|Công ty cổ phần d...|     TVPHARM|27 Điện Biên Phủ,...|27 Điện Biên Phủ,...|Chai 100 viên, ch...|        119|     null|   null|    Prednisolone 5mg|          null|            null|VD-10498-10|    []|   Yes|{null}| Tân dược|      |Việt Nam|Việt Nam|    null|24/02/2010|018.5|  []|     0|        []|VD-10498-10|  42/QĐ-QLD|  202|  null|null|      Prednisolone|     TCCS|36 tháng|\n",
            "|6446b2885dfb86b48...|      |null|Công ty cổ phần d...|Công ty cổ phần d...|     TVPHARM|27 Điện Biên Phủ,...|27 Điện Biên Phủ,...|Hộp 10 vỉ x 20 vi...|        119|     null|   null|    Prednisolone 5mg|          null|            null|VD-10499-10|    []|   Yes|{null}| Tân dược|      |Việt Nam|Việt Nam|    null|24/02/2010|018.5|  []|     0|        []|VD-10499-10|  42/QĐ-QLD|  202|  null|null|      Prednisolone|     TCCS|36 tháng|\n",
            "|6446b2885dfb86b48...|      |null|Công ty cổ phần D...|Công ty cổ phần D...|      UPHACE|120 Hai Bà Trưng-...|120 Hai Bà Trưng-...|hộp 1 vỉ 10 ống x...|        119|     null|   null|Paracetamol 450mg...|          null|            null|VD-10521-10|    []|   Yes|{null}| Tân dược|      |Việt Nam|Việt Nam|    null|24/02/2010|005.0|  []|     0|        []|VD-10521-10|  42/QĐ-QLD|  202|  null|null| Paracetamol 450mg|     TCCS|24 tháng|\n",
            "|6446b2885dfb86b48...|      |null|Công ty cổ phần d...|Công ty cổ phần d...| MEDIPLANTEX|Thôn Trung Hậu, x...|Thôn Trung Hậu, x...|hộp 20 gói x 1,5 ...|        119|     null|   null|  Roxithromycin 50mg|          null|            null|VD-10542-10|    []|   Yes|{null}| Tân dược|      |Việt Nam|Việt Nam|    null|24/02/2010|005.0|  []|     0|        []|VD-10542-10|  42/QĐ-QLD|  202|  null|null|     Roxithromycin|     TCCS|36 tháng|\n",
            "|6446b2885dfb86b48...|      |null|Công ty cổ phần d...|Công ty cổ phần d...|  MEDIPHARCO|Số 8 Nguyễn Trườn...|Số 8 Nguyễn Trườn...|hộp 1 tuýp 5 gam,...|        119|     null|   null|Promethazin hydro...|          null|            null|VD-10554-10|    []|   Yes|{null}| Tân dược|      |Việt Nam|Việt Nam|    null|24/02/2010|032.0|  []|     0|        []|VD-10554-10|  42/QĐ-QLD|  202|  null|null|       Promethazin|     TCCS|36 tháng|\n",
            "|6446b2885dfb86b48...|      |null|Công ty cổ phần d...|Công ty cổ phần d...|    HADIPHAR|167 Hà Huy Tập, t...|167 Hà Huy Tập, t...|Hộp 2 vỉ x 10 viê...|        119|     null|   null|Hương phụ, ích mẫ...|          null|            null|VD-10563-10|    []|   Yes|{null}|Đông dược|      |Việt Nam|Việt Nam|    null|24/02/2010|032.0|  []|     0|        []|VD-10563-10|  42/QĐ-QLD|  202|  null|null|           ích mẫu|     TCCS|36 tháng|\n",
            "|6446b2885dfb86b48...|      |null|Công ty cổ phần d...|Công ty cổ phần d...|   VACOPHARM|Km 1954, quốc lộ ...|Km 1954, quốc lộ ...|hộp 3 vỉ, 2 vỉ, 5...|        119|     null|   null|     Meloxicam 7,5mg|          null|            null|VD-10568-10|    []|   Yes|{null}| Tân dược|      |Việt Nam|Việt Nam|    null|24/02/2010|032.0|  []|     0|        []|VD-10568-10|  42/QĐ-QLD|  202|  null|null|         Meloxicam|     TCCS|36 tháng|\n",
            "+--------------------+------+----+--------------------+--------------------+------------+--------------------+--------------------+--------------------+-----------+---------+-------+--------------------+--------------+----------------+-----------+------+------+------+---------+------+--------+--------+--------+----------+-----+----+------+----------+-----------+-----------+-----+------+----+------------------+---------+--------+\n",
            "only showing top 20 rows\n",
            "\n"
          ]
        }
      ],
      "source": [
        "# YOUR CODE HERE\n",
        "dfDrugs.where(dfDrugs.hoatChat.contains(dfDrugs.tenThuoc)).show()"
      ]
    },
    {
      "cell_type": "markdown",
      "metadata": {
        "id": "9e0N9KtvIIS4"
      },
      "source": [
        "### (c) Create a new DataFrame from the `thuoc_raw` collection that splits the API in the `hoatChat` field into multiple rows. For example, \"paracetamol\" is the API in \"Paracetamol 500 mg,\" and \"amoxicillin\" is the API in various medications such as \"Amogentine 500mg/125mg,\" \"Augbactam 1g/200mg,\" and \"Viamomentin.\" The resulting DataFrame should have two columns: `hoatChat` and `thuocTuongUng` as a list. After processing the data, write it back to our MongoDB at `output_data.thuocthaythe`."
      ]
    },
    {
      "cell_type": "code",
      "source": [
        "# YOUR CODE HERE\n",
        "from pyspark.sql.functions import udf\n",
        "from pyspark.sql.types import ArrayType, StringType\n",
        "import re\n",
        "from pyspark.sql.functions import collect_list\n",
        "from pyspark.sql.functions import explode\n",
        "\n",
        "# View 2 columns hoatChat and tenThuoc\n",
        "dfDrugs.select('hoatChat', 'tenThuoc') \\\n",
        "       .show(10, truncate = False)"
      ],
      "metadata": {
        "colab": {
          "base_uri": "https://localhost:8080/"
        },
        "id": "kzWShuSsYg5X",
        "outputId": "1aa34fda-528f-4dbb-d6b7-5e0498fd1068"
      },
      "execution_count": null,
      "outputs": [
        {
          "output_type": "stream",
          "name": "stdout",
          "text": [
            "+----------------------------------------+----------------------+\n",
            "|hoatChat                                |tenThuoc              |\n",
            "+----------------------------------------+----------------------+\n",
            "|amoxicilin  500mg, acid clavulanic 125mg|Amogentine 500mg/125mg|\n",
            "|levofloxacin 250mg                      |PQAlevo               |\n",
            "|Berberin clorid 0,01g                   |Berberin 0,01g        |\n",
            "|Berberin clorid 0,05g                   |Berberin 0,05g        |\n",
            "|Doxycyclin hydroclorid 100mg            |Doxycyclin TW3 100 mg |\n",
            "|Paracetamol 500 mg                      |Paracetamol 500 mg    |\n",
            "|Paracetamol 500 mg                      |Paracetamol TW3 500 mg|\n",
            "|Tetracyclin 250 mg                      |Tetracyclin 250 mg    |\n",
            "|Thiamin nitrat 0,01 g                   |Vitamin B1 0,01g      |\n",
            "|ích mẫu, hương phụ, ngải cứu            |ích mẫu TW3           |\n",
            "+----------------------------------------+----------------------+\n",
            "only showing top 10 rows\n",
            "\n"
          ]
        }
      ]
    },
    {
      "cell_type": "code",
      "source": [
        "# ***Create a new column in 'dfDrugs' called 'tenHoatChat' \n",
        "# ***Each row in 'tenHoatChat' is extracted from the name of active ingredients in 'hoatChat'\n",
        "\n",
        "# UDF Function extracting name from active ingredients \n",
        "def extract_name_active(actives):\n",
        "  names = []\n",
        "  for active in actives:\n",
        "    try:\n",
        "      redundants = re.search(r\"\\d+(,\\d+)? *(gam|mg|g|UI|ml|l|IU|\\%)(\\/\\d+ ?ml)?\", active).group(0)\n",
        "      names.append(active.replace(redundants, \"\").strip())\n",
        "    except:\n",
        "      names.append(active.strip())\n",
        "  \n",
        "  return names\n",
        "\n",
        "# Wrap the function above with PySpark SQL udf()\n",
        "extract_name_udf = udf(extract_name_active, ArrayType(StringType()))\n",
        "\n",
        "# Create a new column 'tenHoatChat'\n",
        "dfDrugs = dfDrugs.withColumn('tenHoatChat', \n",
        "                             extract_name_udf(split('hoatChat', ', ')))\n",
        "\n",
        "dfDrugs.select('tenThuoc', 'hoatChat', 'tenHoatChat') \\\n",
        "       .show(truncate = False)"
      ],
      "metadata": {
        "colab": {
          "base_uri": "https://localhost:8080/"
        },
        "id": "n8rZj_k5eb05",
        "outputId": "43c78af3-d15b-4d53-d81f-5214eac8ddde"
      },
      "execution_count": null,
      "outputs": [
        {
          "output_type": "stream",
          "name": "stdout",
          "text": [
            "+----------------------+----------------------------------------+--------------------------------+\n",
            "|tenThuoc              |hoatChat                                |tenHoatChat                     |\n",
            "+----------------------+----------------------------------------+--------------------------------+\n",
            "|Amogentine 500mg/125mg|amoxicilin  500mg, acid clavulanic 125mg|[amoxicilin, acid clavulanic]   |\n",
            "|PQAlevo               |levofloxacin 250mg                      |[levofloxacin]                  |\n",
            "|Berberin 0,01g        |Berberin clorid 0,01g                   |[Berberin clorid]               |\n",
            "|Berberin 0,05g        |Berberin clorid 0,05g                   |[Berberin clorid]               |\n",
            "|Doxycyclin TW3 100 mg |Doxycyclin hydroclorid 100mg            |[Doxycyclin hydroclorid]        |\n",
            "|Paracetamol 500 mg    |Paracetamol 500 mg                      |[Paracetamol]                   |\n",
            "|Paracetamol TW3 500 mg|Paracetamol 500 mg                      |[Paracetamol]                   |\n",
            "|Tetracyclin 250 mg    |Tetracyclin 250 mg                      |[Tetracyclin]                   |\n",
            "|Vitamin B1 0,01g      |Thiamin nitrat 0,01 g                   |[Thiamin nitrat]                |\n",
            "|ích mẫu TW3           |ích mẫu, hương phụ, ngải cứu            |[ích mẫu, hương phụ, ngải cứu]  |\n",
            "|Adretop               |Adrenalin 1mg/1ml                       |[Adrenalin]                     |\n",
            "|Alphatrypa            |Alpha chymotrypsin 5000UI               |[Alpha chymotrypsin]            |\n",
            "|Cefwin                |Cefradin 1g                             |[Cefradin]                      |\n",
            "|Cimetidin 200mg       |Cimetidin 200mg                         |[Cimetidin]                     |\n",
            "|Citava                |Biphenyl dimethyl dicarboxylat 25mg     |[Biphenyl dimethyl dicarboxylat]|\n",
            "|Colchicin             |colchicin 1mg                           |[colchicin]                     |\n",
            "|Ephedrin 10mg         |ephedrin hydroclorid 10mg               |[ephedrin hydroclorid]          |\n",
            "|Ezelip                |ezetimibe 10mg                          |[ezetimibe]                     |\n",
            "|Famcivir 250          |Famciclovir 250 mg                      |[Famciclovir]                   |\n",
            "|Famcivir 750          |famciclovir 750 mg                      |[famciclovir]                   |\n",
            "+----------------------+----------------------------------------+--------------------------------+\n",
            "only showing top 20 rows\n",
            "\n"
          ]
        }
      ]
    },
    {
      "cell_type": "code",
      "execution_count": null,
      "metadata": {
        "id": "BQzlRdrKag1A",
        "colab": {
          "base_uri": "https://localhost:8080/"
        },
        "outputId": "f219ef19-41be-439e-f5c6-946665e65188"
      },
      "outputs": [
        {
          "output_type": "stream",
          "name": "stdout",
          "text": [
            "+-----------------------------------------------------------------------------------------------------------------------------------------------------+----------------------------------------------------------------------------------------------------------------------------------------------------------------------------------------------------------------------------------------------------------------------------------------------------------------------------------------------+\n",
            "|hoatChat                                                                                                                                             |thuocTuongUng                                                                                                                                                                                                                                                                                                                                 |\n",
            "+-----------------------------------------------------------------------------------------------------------------------------------------------------+----------------------------------------------------------------------------------------------------------------------------------------------------------------------------------------------------------------------------------------------------------------------------------------------------------------------------------------------+\n",
            "|...                                                                                                                                                  |[Supramax]                                                                                                                                                                                                                                                                                                                                    |\n",
            "|Acetaminophen ; Phenylephrin HCl 5mg; Cafein 25mg                                                                                                    |[Becacold - E, Tatanol Flu]                                                                                                                                                                                                                                                                                                                   |\n",
            "|Alverin (dưới dạng Alverin citrat )                                                                                                                  |[Motalv]                                                                                                                                                                                                                                                                                                                                      |\n",
            "|Aminosalicylate natri                                                                                                                                |[Q-Pas]                                                                                                                                                                                                                                                                                                                                       |\n",
            "|Amlodipin  (tương đương với Amlodipin besylat 6,93)                                                                                                  |[Lodimax 5mg]                                                                                                                                                                                                                                                                                                                                 |\n",
            "|Ampicillin (dưới dạng Ampiccillin Sodium); Sulbactam (dưới dạng Sulbactam sodium)                                                                    |[Ampicillin Sodium and Sulbactam Sodium for Injection 1.5g]                                                                                                                                                                                                                                                                                   |\n",
            "|Azithromycin  (dưới dạng Azithromycin Dihydrat)                                                                                                      |[Opeazitro 250, Azizi]                                                                                                                                                                                                                                                                                                                        |\n",
            "|Bột Nghệ; Mật ong                                                                                                                                    |[Mật ong nghệ - Medi]                                                                                                                                                                                                                                                                                                                         |\n",
            "|Calcium lactate; Calcium gluconate hydrate; Calcium carbonate; Ergocalciferol khan                                                                   |[Siscozol]                                                                                                                                                                                                                                                                                                                                    |\n",
            "|Calcium pantothenate                                                                                                                                 |[Obimin, Oramin ginseng, Multivitamin, Rivovita-Gold Soft cap (NSX 2: R&P Korea; đ/c: 906-6, Sangsin-ri, Hyangnam-myeon, Hwaseong-si, Kyungki-do, Korea), Hepasyzin, Mintonin, Etexsylicaba Soft Capsule, Pitasoft soft capsule, PM Procare Diamond, Pluc Plus Sachet, Bmaxzyme, Lavixton, Gelodime, Harrox, Silyrone, Hepaxtine Soft Capsule]|\n",
            "|Cao Hà thủ ô đỏ                                                                                                                                      |[Hà thủ ô]                                                                                                                                                                                                                                                                                                                                    |\n",
            "|Cao đinh lăng ; Cao bạch quả                                                                                                                         |[Cebraton]                                                                                                                                                                                                                                                                                                                                    |\n",
            "|Cao đặc actiso 100/1 (tương đương  lá tươi actiso) 100mg; Hạt bìm bìm biếc 75mg; Cao khô rau đắng đất 10/1 (tương đương với 750 mg rau đắng đất) 75mg|[Lado - Bavegan]                                                                                                                                                                                                                                                                                                                              |\n",
            "|Cefepim (dưới dạng Cefepim HCl)                                                                                                                      |[Maxapin 1g, Pimfexin, Pimefast 1000, Pimefast 2000, Holx, Cefpas, Micropime 1g]                                                                                                                                                                                                                                                              |\n",
            "|Cefixim (dùng dạng cefixim trihydrat) /1,4g bột                                                                                                      |[Cefixime 50mg]                                                                                                                                                                                                                                                                                                                               |\n",
            "|Ciprofibrate                                                                                                                                         |[Modalim 100mg, Glenlipid]                                                                                                                                                                                                                                                                                                                    |\n",
            "|Dacarbazin (dưới dạng Dacarbazin citrat)                                                                                                             |[Dacarbazine Medac]                                                                                                                                                                                                                                                                                                                           |\n",
            "|Dexamethason (tương đương Dexamethason acetat ) 0,5mg                                                                                                |[Prednic]                                                                                                                                                                                                                                                                                                                                     |\n",
            "|Diacefyllin diphenhydramin                                                                                                                           |[Enaulin, Nautamine]                                                                                                                                                                                                                                                                                                                          |\n",
            "|Diphenhydramin hydroclorid                                                                                                                           |[Nontamin-Extra, Nontamin-Fort, Sossleep, Sossleep Fort, Dimedrol, Daiticol, Neo-Allerfar, Dimedrol, Dimedrol 10mg/1ml, Nontamin-fort, Donaintra 50 mg]                                                                                                                                                                                       |\n",
            "+-----------------------------------------------------------------------------------------------------------------------------------------------------+----------------------------------------------------------------------------------------------------------------------------------------------------------------------------------------------------------------------------------------------------------------------------------------------------------------------------------------------+\n",
            "only showing top 20 rows\n",
            "\n"
          ]
        }
      ],
      "source": [
        "# ***Explode the column 'tenHoatChat' and use 'groupby()' function to group into different names of active ingredients\n",
        "\n",
        "# Explode the values column 'tenHoatChat' into separate rows\n",
        "explode_tenHoatChat = dfDrugs.selectExpr('tenThuoc', 'explode(tenHoatChat) as hoatChat')\n",
        "\n",
        "# Group into different names of active ingredients\n",
        "result = explode_tenHoatChat.groupBy('hoatChat') \\\n",
        "                            .agg(collect_list('tenThuoc') \\\n",
        "                            .alias('thuocTuongUng'))\n",
        "result.show(truncate = False)"
      ]
    },
    {
      "cell_type": "code",
      "source": [
        "# ***Write it back to our MongoDB at `output_data.thuocthaythe`\n",
        "result.write.format(\"mongodb\")              \\\n",
        "      .option(\"database\", \"output_data\")    \\\n",
        "      .option(\"collection\", \"thuocthaythe\") \\\n",
        "      .mode(\"overwrite\")                    \\\n",
        "      .save()"
      ],
      "metadata": {
        "id": "YjeXS5QvBLZb"
      },
      "execution_count": null,
      "outputs": []
    },
    {
      "cell_type": "markdown",
      "metadata": {
        "id": "sQ00j4TuHosd"
      },
      "source": [
        "### (d) Create new DataFrame from two mentioned above that contains  `tenThuoc`, `hoatChat`, `dongGoi`, `dvt` and `giaBan`. After process the data, write it back to our mongodb at `output_data.giathuoc`."
      ]
    },
    {
      "cell_type": "code",
      "execution_count": null,
      "metadata": {
        "id": "O8YNrN4lAZa5",
        "colab": {
          "base_uri": "https://localhost:8080/"
        },
        "outputId": "e7c7a459-9fdc-418d-b9ca-97f548469032"
      },
      "outputs": [
        {
          "output_type": "stream",
          "name": "stdout",
          "text": [
            "+----------------------+----------------------------------------+-------------------------------------------------------------------------------------------------------------+----+------+\n",
            "|tenThuoc              |hoatChat                                |dongGoi                                                                                                      |dvt |giaBan|\n",
            "+----------------------+----------------------------------------+-------------------------------------------------------------------------------------------------------------+----+------+\n",
            "|Amogentine 500mg/125mg|amoxicilin  500mg, acid clavulanic 125mg|Hộp 2 vỉ x 7 viên                                                                                            |Viên|7500  |\n",
            "|Amogentine 500mg/125mg|amoxicilin  500mg, acid clavulanic 125mg|Hộp 2 vỉ x 7 viên                                                                                            |Viên|7000  |\n",
            "|Paracetamol 500 mg    |Paracetamol 500 mg                      |Hộp 10,50 vỉ x 10 viên nén                                                                                   |Viên|230   |\n",
            "|Tetracyclin 250 mg    |Tetracyclin 250 mg                      |Lọ 400 viên nén                                                                                              |Viên|230   |\n",
            "|Vitamin B1 0,01g      |Thiamin nitrat 0,01 g                   |Lọ 100,2000 viên nén                                                                                         |Viên|21    |\n",
            "|ích mẫu TW3           |ích mẫu, hương phụ, ngải cứu            |Hộp 2, 5vỉ x 10 viên nang cứng                                                                               |Viên|990   |\n",
            "|ích mẫu TW3           |ích mẫu, hương phụ, ngải cứu            |Hộp 2,5 vỉ x 10 viên nang cứng                                                                               |Viên|990   |\n",
            "|Adretop               |Adrenalin 1mg/1ml                       |Hộp 10 ống thuốc tiêm 1 ml                                                                                   |Ống |3150  |\n",
            "|Alphatrypa            |Alpha chymotrypsin 5000UI               |Hộp 5 lọ bột đông khô + 5 ống dung môi natri clorid 0,9% 2ml                                                 |Lọ  |10500 |\n",
            "|Cimetidin 200mg       |Cimetidin 200mg                         |Hộp 10 vỉ xé x 10 viên, có kèm theo tờ hướng dẫn sử dụng thuốc                                               |Viên|250   |\n",
            "|Citava                |Biphenyl dimethyl dicarboxylat 25mg     |Hộp 5 vỉ x 10 viên nén. Hộp 10 vỉ x 10 viên nén                                                              |Viên|4500  |\n",
            "|Colchicin             |colchicin 1mg                           |Hộp 1 vỉ x 20 viên nén                                                                                       |Viên|900   |\n",
            "|Famcivir 250          |Famciclovir 250 mg                      |Hộp 3 vỉ x 10 viên nang cứng                                                                                 |Viên|45000 |\n",
            "|Injectam - S 1g       |piracetam 1g/5ml                        |Hộp 2 vỉ x 6 ống 5ml                                                                                         |Ống |5500  |\n",
            "|Lincomycin 500mg      |Lincomycin 500mg                        |Hộp 10 vỉ x 10 viên nang, trong hộp có tờ hướng dẫn sử dụng thuốc. Lọ 500 viên, kèm theo tờ hướng dẫn sử dụng|Viên|1250  |\n",
            "|Nước cất tiêm 10ml    |nước cất pha tiêm 10ml                  |Hộp 50 ống                                                                                                   |Ống |1575  |\n",
            "|Nước cất tiêm 4ml     |nước cất pha tiêm 4ml                   |Hộp 50 ống                                                                                                   |Ống |900   |\n",
            "|Norfloxacin 400mg     |nofloxacin 400mg                        |Hộp 1 vỉ x 1 viên nén                                                                                        |Viên|90000 |\n",
            "|Ouabain 0,25mg        |Ouabain 0,25mg/1ml                      |Hộp 100 ống thuốc tiêm 1 ml                                                                                  |Ống |1000  |\n",
            "|Papaverin 40          |papaverin hydroclorid 40mg              |Lọ 100 viên nén. Lọ 1000 viên nén                                                                            |Viên|200   |\n",
            "+----------------------+----------------------------------------+-------------------------------------------------------------------------------------------------------------+----+------+\n",
            "only showing top 20 rows\n",
            "\n"
          ]
        }
      ],
      "source": [
        "# Join 2 dataset \n",
        "gia_thuoc = dfDrugs.join(dfPrices, dfDrugs.soDangKy == dfPrices.sdk, \"inner\") \\\n",
        "                   .select(dfDrugs.tenThuoc, dfDrugs.hoatChat, dfPrices.dongGoi, dfPrices.dvt, dfPrices.giaBan).distinct()\n",
        "gia_thuoc.show(truncate = False)\n",
        "\n",
        "# Save the result\n",
        "gia_thuoc.write.format(\"mongodb\")        \\\n",
        "      .option(\"database\", \"output_data\") \\\n",
        "      .option(\"collection\", \"giathuoc\")  \\\n",
        "      .mode(\"overwrite\")                 \\\n",
        "      .save()"
      ]
    }
  ],
  "metadata": {
    "colab": {
      "provenance": []
    },
    "gpuClass": "standard",
    "kernelspec": {
      "display_name": "Python 3",
      "name": "python3"
    },
    "language_info": {
      "name": "python"
    }
  },
  "nbformat": 4,
  "nbformat_minor": 0
}