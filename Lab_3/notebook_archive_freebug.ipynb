{
  "cells": [
    {
      "cell_type": "markdown",
      "metadata": {
        "id": "tChWFAUf8CAg"
      },
      "source": [
        "# Part 0: Setting up"
      ]
    },
    {
      "cell_type": "markdown",
      "metadata": {
        "id": "867SO8F24Enh"
      },
      "source": [
        "## Install and start MongoDB"
      ]
    },
    {
      "cell_type": "code",
      "execution_count": 1,
      "metadata": {
        "colab": {
          "base_uri": "https://localhost:8080/"
        },
        "id": "enbk0ZkjoxPO",
        "outputId": "4a54066f-7b9b-4ac6-a326-7b2b7b28bfd4"
      },
      "outputs": [
        {
          "output_type": "stream",
          "name": "stdout",
          "text": [
            "The following additional packages will be installed:\n",
            "  libpcap0.8 libyaml-cpp0.6 mongo-tools mongodb-clients mongodb-server\n",
            "  mongodb-server-core\n",
            "The following NEW packages will be installed:\n",
            "  libpcap0.8 libyaml-cpp0.6 mongo-tools mongodb mongodb-clients mongodb-server\n",
            "  mongodb-server-core\n",
            "0 upgraded, 7 newly installed, 0 to remove and 24 not upgraded.\n",
            "Need to get 55.8 MB of archives.\n",
            "After this operation, 226 MB of additional disk space will be used.\n",
            "Selecting previously unselected package libpcap0.8:amd64.\n",
            "(Reading database ... 122352 files and directories currently installed.)\n",
            "Preparing to unpack .../0-libpcap0.8_1.9.1-3_amd64.deb ...\n",
            "Unpacking libpcap0.8:amd64 (1.9.1-3) ...\n",
            "Selecting previously unselected package libyaml-cpp0.6:amd64.\n",
            "Preparing to unpack .../1-libyaml-cpp0.6_0.6.2-4ubuntu1_amd64.deb ...\n",
            "Unpacking libyaml-cpp0.6:amd64 (0.6.2-4ubuntu1) ...\n",
            "Selecting previously unselected package mongo-tools.\n",
            "Preparing to unpack .../2-mongo-tools_3.6.3-0ubuntu1_amd64.deb ...\n",
            "Unpacking mongo-tools (3.6.3-0ubuntu1) ...\n",
            "Selecting previously unselected package mongodb-clients.\n",
            "Preparing to unpack .../3-mongodb-clients_1%3a3.6.9+really3.6.8+90~g8e540c0b6d-0ubuntu5.3_amd64.deb ...\n",
            "Unpacking mongodb-clients (1:3.6.9+really3.6.8+90~g8e540c0b6d-0ubuntu5.3) ...\n",
            "Selecting previously unselected package mongodb-server-core.\n",
            "Preparing to unpack .../4-mongodb-server-core_1%3a3.6.9+really3.6.8+90~g8e540c0b6d-0ubuntu5.3_amd64.deb ...\n",
            "Unpacking mongodb-server-core (1:3.6.9+really3.6.8+90~g8e540c0b6d-0ubuntu5.3) ...\n",
            "Selecting previously unselected package mongodb-server.\n",
            "Preparing to unpack .../5-mongodb-server_1%3a3.6.9+really3.6.8+90~g8e540c0b6d-0ubuntu5.3_all.deb ...\n",
            "Unpacking mongodb-server (1:3.6.9+really3.6.8+90~g8e540c0b6d-0ubuntu5.3) ...\n",
            "Selecting previously unselected package mongodb.\n",
            "Preparing to unpack .../6-mongodb_1%3a3.6.9+really3.6.8+90~g8e540c0b6d-0ubuntu5.3_amd64.deb ...\n",
            "Unpacking mongodb (1:3.6.9+really3.6.8+90~g8e540c0b6d-0ubuntu5.3) ...\n",
            "Setting up libpcap0.8:amd64 (1.9.1-3) ...\n",
            "Setting up libyaml-cpp0.6:amd64 (0.6.2-4ubuntu1) ...\n",
            "Setting up mongodb-clients (1:3.6.9+really3.6.8+90~g8e540c0b6d-0ubuntu5.3) ...\n",
            "Setting up mongo-tools (3.6.3-0ubuntu1) ...\n",
            "Setting up mongodb-server-core (1:3.6.9+really3.6.8+90~g8e540c0b6d-0ubuntu5.3) ...\n",
            "Setting up mongodb-server (1:3.6.9+really3.6.8+90~g8e540c0b6d-0ubuntu5.3) ...\n",
            "invoke-rc.d: could not determine current runlevel\n",
            "invoke-rc.d: policy-rc.d denied execution of start.\n",
            "Created symlink /etc/systemd/system/multi-user.target.wants/mongodb.service → /lib/systemd/system/mongodb.service.\n",
            "Setting up mongodb (1:3.6.9+really3.6.8+90~g8e540c0b6d-0ubuntu5.3) ...\n",
            "Processing triggers for man-db (2.9.1-1) ...\n",
            "Processing triggers for libc-bin (2.31-0ubuntu9.9) ...\n",
            "Processing triggers for systemd (245.4-4ubuntu3.21) ...\n",
            " * Starting database mongodb\n",
            "   ...done.\n"
          ]
        }
      ],
      "source": [
        "!apt install -qq mongodb\n",
        "!service mongodb start"
      ]
    },
    {
      "cell_type": "markdown",
      "metadata": {
        "id": "7dph1tTf4HkU"
      },
      "source": [
        "## Download dataset and push to our mongodb "
      ]
    },
    {
      "cell_type": "code",
      "execution_count": 2,
      "metadata": {
        "colab": {
          "base_uri": "https://localhost:8080/"
        },
        "id": "cy-r-AQ2pZM0",
        "outputId": "bfff09f2-b3c8-44ae-c534-5f64acb2c7ee"
      },
      "outputs": [
        {
          "output_type": "stream",
          "name": "stdout",
          "text": [
            "Selecting previously unselected package brotli.\n",
            "(Reading database ... \r(Reading database ... 5%\r(Reading database ... 10%\r(Reading database ... 15%\r(Reading database ... 20%\r(Reading database ... 25%\r(Reading database ... 30%\r(Reading database ... 35%\r(Reading database ... 40%\r(Reading database ... 45%\r(Reading database ... 50%\r(Reading database ... 55%\r(Reading database ... 60%\r(Reading database ... 65%\r(Reading database ... 70%\r(Reading database ... 75%\r(Reading database ... 80%\r(Reading database ... 85%\r(Reading database ... 90%\r(Reading database ... 95%\r(Reading database ... 100%\r(Reading database ... 122419 files and directories currently installed.)\n",
            "Preparing to unpack .../brotli_1.0.7-6ubuntu0.1_amd64.deb ...\n",
            "Unpacking brotli (1.0.7-6ubuntu0.1) ...\n",
            "Setting up brotli (1.0.7-6ubuntu0.1) ...\n",
            "Processing triggers for man-db (2.9.1-1) ...\n"
          ]
        }
      ],
      "source": [
        "# It's already the 21st century and people are very impatient, so they use Brotli for text and Zstd for everything else.\n",
        "# Reference: https://github.com/google/brotli\n",
        "!apt-get install -qq brotli"
      ]
    },
    {
      "cell_type": "code",
      "execution_count": 3,
      "metadata": {
        "id": "XNT5v0BkpMWa"
      },
      "outputs": [],
      "source": [
        "!wget -q https://csc14118.github.io/thuoc_raw.json.br\n",
        "!wget -q https://csc14118.github.io/gia_ke_khai_raw.json.br\n",
        "!wget -q https://csc14118.github.io/movies_lang.json.br "
      ]
    },
    {
      "cell_type": "code",
      "execution_count": 4,
      "metadata": {
        "id": "qqVJXO4TpQDZ"
      },
      "outputs": [],
      "source": [
        "!brotli -d *.br"
      ]
    },
    {
      "cell_type": "code",
      "execution_count": 5,
      "metadata": {
        "colab": {
          "base_uri": "https://localhost:8080/"
        },
        "id": "p2AGMuFp6x2u",
        "outputId": "09265c86-5fb3-44ed-bfdb-1cef79168a69"
      },
      "outputs": [
        {
          "output_type": "stream",
          "name": "stdout",
          "text": [
            "\u001b[2K     \u001b[90m━━━━━━━━━━━━━━━━━━━━━━━━━━━━━━━━━━━━━━━\u001b[0m \u001b[32m492.1/492.1 kB\u001b[0m \u001b[31m9.6 MB/s\u001b[0m eta \u001b[36m0:00:00\u001b[0m\n",
            "\u001b[2K     \u001b[90m━━━━━━━━━━━━━━━━━━━━━━━━━━━━━━━━━━━━━━\u001b[0m \u001b[32m283.7/283.7 kB\u001b[0m \u001b[31m28.2 MB/s\u001b[0m eta \u001b[36m0:00:00\u001b[0m\n",
            "\u001b[?25h"
          ]
        }
      ],
      "source": [
        "!pip install -q pymongo"
      ]
    },
    {
      "cell_type": "code",
      "execution_count": 6,
      "metadata": {
        "colab": {
          "base_uri": "https://localhost:8080/"
        },
        "id": "4lGAVCVCpz_9",
        "outputId": "4e2b9b47-019b-48c3-f647-13c982043005"
      },
      "outputs": [
        {
          "output_type": "execute_result",
          "data": {
            "text/plain": [
              "['admin', 'config', 'dummy', 'input_data', 'local']"
            ]
          },
          "metadata": {},
          "execution_count": 6
        }
      ],
      "source": [
        "import json\n",
        "from pymongo import MongoClient\n",
        "\n",
        "client = MongoClient()\n",
        "\n",
        "# Creation of the new database\n",
        "db = client['input_data']\n",
        "\n",
        "collection_name = [\"gia_ke_khai_raw\", \"movies_lang\", \"thuoc_raw\"]\n",
        "\n",
        "# Push our data to mongodb\n",
        "for data in collection_name:\n",
        "    collection = db[data]\n",
        "    chunks = json.load(open(f'{data}.json'))\n",
        "    collection.insert_many(chunks)\n",
        "\n",
        "# Create a dummy database to test\n",
        "db = client['dummy']\n",
        "db['chunks'].insert_many([{'Banh xeo': 'Rat ngon'},{'Banh bao': 'Cung ngon'}])\n",
        "\n",
        "client.list_database_names()"
      ]
    },
    {
      "cell_type": "markdown",
      "metadata": {
        "id": "BPgvKHYi46Zh"
      },
      "source": [
        "## Install pyspark"
      ]
    },
    {
      "cell_type": "code",
      "execution_count": 7,
      "metadata": {
        "id": "3BQOC48fkpMX"
      },
      "outputs": [],
      "source": [
        "!apt-get install openjdk-8-jdk-headless -qq > /dev/null\n",
        "!wget -q \"https://archive.apache.org/dist/spark/spark-3.1.1/spark-3.1.1-bin-hadoop2.7.tgz\"\n",
        "!tar xf spark-3.1.1-bin-hadoop2.7.tgz\n",
        "!pip install -q findspark"
      ]
    },
    {
      "cell_type": "code",
      "execution_count": 8,
      "metadata": {
        "colab": {
          "base_uri": "https://localhost:8080/",
          "height": 42
        },
        "id": "nJFxkwtAkt3U",
        "outputId": "7bdabce2-0fac-41a3-916a-7f974fe3f955"
      },
      "outputs": [
        {
          "output_type": "execute_result",
          "data": {
            "text/plain": [
              "'spark-3.1.1-bin-hadoop2.7'"
            ],
            "application/vnd.google.colaboratory.intrinsic+json": {
              "type": "string"
            }
          },
          "metadata": {},
          "execution_count": 8
        }
      ],
      "source": [
        "import os\n",
        "os.environ[\"JAVA_HOME\"] = \"/usr/lib/jvm/java-8-openjdk-amd64\"\n",
        "os.environ[\"SPARK_HOME\"] = \"spark-3.1.1-bin-hadoop2.7\"\n",
        "import findspark\n",
        "findspark.init()\n",
        "findspark.find()"
      ]
    },
    {
      "cell_type": "code",
      "execution_count": 9,
      "metadata": {
        "colab": {
          "base_uri": "https://localhost:8080/"
        },
        "id": "qgjKoGjDzZgu",
        "outputId": "1dc9ba45-ba95-4354-9e05-bd6a7bd35a1a"
      },
      "outputs": [
        {
          "output_type": "stream",
          "name": "stdout",
          "text": [
            "3.1.1\n"
          ]
        }
      ],
      "source": [
        "import pyspark\n",
        "print(pyspark.__version__)"
      ]
    },
    {
      "cell_type": "markdown",
      "metadata": {
        "id": "N4x3MtDq494s"
      },
      "source": [
        "## Dirty trick to connect spark to our mongodb\n",
        "\n",
        "In industry environment, please read the docs carefully to seting up these complicated things."
      ]
    },
    {
      "cell_type": "code",
      "execution_count": 10,
      "metadata": {
        "colab": {
          "base_uri": "https://localhost:8080/"
        },
        "id": "J3kZd3CZNIY-",
        "outputId": "8d128e32-f9b1-4774-f2e5-2f71288c52d1"
      },
      "outputs": [
        {
          "output_type": "stream",
          "name": "stdout",
          "text": [
            "rm: cannot remove 'spark-3.1.1-bin-hadoop2.7/jars/mongo*.jar': No such file or directory\n",
            "rm: cannot remove 'spark-3.1.1-bin-hadoop2.7/jars/bson*.jar': No such file or directory\n"
          ]
        }
      ],
      "source": [
        "!rm $SPARK_HOME/jars/mongo*.jar\n",
        "!rm $SPARK_HOME/jars/bson*.jar"
      ]
    },
    {
      "cell_type": "code",
      "execution_count": 11,
      "metadata": {
        "colab": {
          "base_uri": "https://localhost:8080/"
        },
        "id": "wPavC4NBR0fn",
        "outputId": "f75e37bf-030f-4270-a73d-553595dbb4a2"
      },
      "outputs": [
        {
          "output_type": "stream",
          "name": "stdout",
          "text": [
            "--2023-04-20 13:03:30--  https://repo1.maven.org/maven2/org/mongodb/spark/mongo-spark-connector_2.12/10.1.1/mongo-spark-connector_2.12-10.1.1.jar\n",
            "Resolving repo1.maven.org (repo1.maven.org)... 199.232.192.209, 199.232.196.209, 2a04:4e42:4c::209, ...\n",
            "Connecting to repo1.maven.org (repo1.maven.org)|199.232.192.209|:443... connected.\n",
            "HTTP request sent, awaiting response... 200 OK\n",
            "Length: 156368 (153K) [application/java-archive]\n",
            "Saving to: ‘mongo-spark-connector_2.12-10.1.1.jar’\n",
            "\n",
            "mongo-spark-connect 100%[===================>] 152.70K  --.-KB/s    in 0.02s   \n",
            "\n",
            "2023-04-20 13:03:30 (6.36 MB/s) - ‘mongo-spark-connector_2.12-10.1.1.jar’ saved [156368/156368]\n",
            "\n",
            "--2023-04-20 13:03:30--  https://repo1.maven.org/maven2/org/mongodb/mongodb-driver/3.12.12/mongodb-driver-3.12.12.jar\n",
            "Resolving repo1.maven.org (repo1.maven.org)... 199.232.192.209, 199.232.196.209, 2a04:4e42:4c::209, ...\n",
            "Connecting to repo1.maven.org (repo1.maven.org)|199.232.192.209|:443... connected.\n",
            "HTTP request sent, awaiting response... 200 OK\n",
            "Length: 375470 (367K) [application/java-archive]\n",
            "Saving to: ‘mongodb-driver-3.12.12.jar’\n",
            "\n",
            "mongodb-driver-3.12 100%[===================>] 366.67K  --.-KB/s    in 0.03s   \n",
            "\n",
            "2023-04-20 13:03:30 (10.4 MB/s) - ‘mongodb-driver-3.12.12.jar’ saved [375470/375470]\n",
            "\n",
            "--2023-04-20 13:03:30--  https://repo1.maven.org/maven2/org/mongodb/mongo-java-driver/3.12.12/mongo-java-driver-3.12.12.jar\n",
            "Resolving repo1.maven.org (repo1.maven.org)... 199.232.192.209, 199.232.196.209, 2a04:4e42:4c::209, ...\n",
            "Connecting to repo1.maven.org (repo1.maven.org)|199.232.192.209|:443... connected.\n",
            "HTTP request sent, awaiting response... 200 OK\n",
            "Length: 2314843 (2.2M) [application/java-archive]\n",
            "Saving to: ‘mongo-java-driver-3.12.12.jar’\n",
            "\n",
            "mongo-java-driver-3 100%[===================>]   2.21M  --.-KB/s    in 0.06s   \n",
            "\n",
            "2023-04-20 13:03:30 (34.2 MB/s) - ‘mongo-java-driver-3.12.12.jar’ saved [2314843/2314843]\n",
            "\n",
            "--2023-04-20 13:03:30--  https://repo1.maven.org/maven2/org/mongodb/bson/4.6.0/bson-4.6.0.jar\n",
            "Resolving repo1.maven.org (repo1.maven.org)... 199.232.192.209, 199.232.196.209, 2a04:4e42:4c::209, ...\n",
            "Connecting to repo1.maven.org (repo1.maven.org)|199.232.192.209|:443... connected.\n",
            "HTTP request sent, awaiting response... 200 OK\n",
            "Length: 486633 (475K) [application/java-archive]\n",
            "Saving to: ‘bson-4.6.0.jar’\n",
            "\n",
            "bson-4.6.0.jar      100%[===================>] 475.23K  --.-KB/s    in 0.04s   \n",
            "\n",
            "2023-04-20 13:03:30 (12.7 MB/s) - ‘bson-4.6.0.jar’ saved [486633/486633]\n",
            "\n"
          ]
        }
      ],
      "source": [
        "!cd $SPARK_HOME/jars && wget https://repo1.maven.org/maven2/org/mongodb/spark/mongo-spark-connector_2.12/10.1.1/mongo-spark-connector_2.12-10.1.1.jar\n",
        "!cd $SPARK_HOME/jars && wget https://repo1.maven.org/maven2/org/mongodb/mongodb-driver/3.12.12/mongodb-driver-3.12.12.jar\n",
        "!cd $SPARK_HOME/jars && wget https://repo1.maven.org/maven2/org/mongodb/mongo-java-driver/3.12.12/mongo-java-driver-3.12.12.jar\n",
        "!cd $SPARK_HOME/jars && wget https://repo1.maven.org/maven2/org/mongodb/bson/4.6.0/bson-4.6.0.jar"
      ]
    },
    {
      "cell_type": "code",
      "execution_count": 12,
      "metadata": {
        "colab": {
          "base_uri": "https://localhost:8080/"
        },
        "id": "E9Z415K4fRED",
        "outputId": "48413aa6-f9d2-45c7-c2e0-a025298f4924"
      },
      "outputs": [
        {
          "output_type": "stream",
          "name": "stdout",
          "text": [
            "Welcome to\n",
            "      ____              __\n",
            "     / __/__  ___ _____/ /__\n",
            "    _\\ \\/ _ \\/ _ `/ __/  '_/\n",
            "   /__ / .__/\\_,_/_/ /_/\\_\\   version 3.1.1\n",
            "      /_/\n",
            "\n",
            "Using Python version 3.9.16 (main, Dec  7 2022 01:11:51)\n",
            "Spark context Web UI available at http://b84ffae34bdb:4040\n",
            "Spark context available as 'sc' (master = local[*], app id = local-1681995816597).\n",
            "SparkSession available as 'spark'.\n"
          ]
        }
      ],
      "source": [
        "from pyspark.shell import spark\n",
        "from pyspark import SparkContext,SparkConf\n",
        "\n",
        "uri = \"mongodb://localhost:27017/input_data\"\n",
        "\n",
        "from pyspark.sql import SparkSession\n",
        "\n",
        "spark_jb = \"org.mongodb.spark:mongo-spark-connector_2.12:10.1.1\"\n",
        "my_spark = SparkSession \\\n",
        "    .builder \\\n",
        "    .config(\"spark.executor.memory\", \"1g\") \\\n",
        "    .appName(\"csc14112\") \\\n",
        "    .config(\"spark.mongodb.read.connection.uri\", uri) \\\n",
        "    .config(\"spark.mongodb.write.connection.uri\", uri) \\\n",
        "    .getOrCreate()"
      ]
    },
    {
      "cell_type": "code",
      "execution_count": 13,
      "metadata": {
        "colab": {
          "base_uri": "https://localhost:8080/"
        },
        "id": "VIcRV6NEfdM5",
        "outputId": "2a4be75e-ba29-481b-923b-74631f663e07"
      },
      "outputs": [
        {
          "output_type": "stream",
          "name": "stdout",
          "text": [
            "root\n",
            "\n"
          ]
        }
      ],
      "source": [
        "# Test read data from our mongo db\n",
        "p = my_spark.read.format(\"mongodb\").option(\"database\",\"dummy\").option(\"collection\", \"chunk\").load()\n",
        "p.printSchema()"
      ]
    },
    {
      "cell_type": "code",
      "execution_count": 14,
      "metadata": {
        "colab": {
          "base_uri": "https://localhost:8080/"
        },
        "id": "7QDbkF7Wpl4f",
        "outputId": "668b1116-e8a9-4aaa-b4dc-6bcf10cf058e"
      },
      "outputs": [
        {
          "output_type": "stream",
          "name": "stdout",
          "text": [
            "++\n",
            "||\n",
            "++\n",
            "++\n",
            "\n"
          ]
        }
      ],
      "source": [
        "p.show()"
      ]
    },
    {
      "cell_type": "markdown",
      "metadata": {
        "id": "OOBcV-zg8IPv"
      },
      "source": [
        "# Part 1: Introduction to PySpark"
      ]
    },
    {
      "cell_type": "markdown",
      "metadata": {
        "id": "LejimkJO8u6A"
      },
      "source": [
        "\n",
        "In this lab assignment, we will work with a movie dataset loaded into our MongoDB at `input_data.movies_lang`. We will use PySpark RDD and DataFrame to perform the following tasks:"
      ]
    },
    {
      "cell_type": "code",
      "execution_count": 16,
      "metadata": {
        "colab": {
          "base_uri": "https://localhost:8080/"
        },
        "id": "29SbDUgzQksL",
        "outputId": "6aa76082-7238-4bae-aafc-53eafe453a84"
      },
      "outputs": [
        {
          "output_type": "stream",
          "name": "stdout",
          "text": [
            "root\n",
            " |-- _id: string (nullable = true)\n",
            " |-- actors: array (nullable = true)\n",
            " |    |-- element: struct (containsNull = true)\n",
            " |    |    |-- _id: string (nullable = true)\n",
            " |    |    |-- first_name: string (nullable = true)\n",
            " |    |    |-- last_name: string (nullable = true)\n",
            " |    |    |-- birth_date: string (nullable = true)\n",
            " |    |    |-- role: string (nullable = true)\n",
            " |-- country: string (nullable = true)\n",
            " |-- director: struct (nullable = true)\n",
            " |    |-- _id: string (nullable = true)\n",
            " |    |-- last_name: string (nullable = true)\n",
            " |    |-- first_name: string (nullable = true)\n",
            " |    |-- birth_date: string (nullable = true)\n",
            " |-- genre: string (nullable = true)\n",
            " |-- languages: array (nullable = true)\n",
            " |    |-- element: string (containsNull = true)\n",
            " |-- title: string (nullable = true)\n",
            " |-- year: integer (nullable = true)\n",
            "\n",
            "+--------+--------------------+-------+--------------------+---------------+--------------------+--------------------+----+\n",
            "|     _id|              actors|country|            director|          genre|           languages|               title|year|\n",
            "+--------+--------------------+-------+--------------------+---------------+--------------------+--------------------+----+\n",
            "| movie:1|[{artist:15, Jame...|     DE|{artist:3, Hitchc...|          drama|                [el]|             Vertigo|1958|\n",
            "| movie:2|[{artist:5, Sigou...|    USA|{artist:4, Scott,...|Science-fiction|    [el, en, it, es]|               Alien|1979|\n",
            "| movie:3|[{artist:109, Kat...|    USA|{artist:6, Camero...|          drama|[el, de, it, en, ...|             Titanic|1997|\n",
            "| movie:4|                  []|     FR|{artist:9, Tarkov...|          drama|[en, it, el, fr, de]|           Sacrifice|1986|\n",
            "| movie:5|[{artist:11, John...|    USA|{artist:10, Woo, ...|         Action|[es, fr, en, it, ...|          Volte/Face|1997|\n",
            "| movie:6|[{artist:14, John...|    USA|{artist:13, Burto...|    Fantastique|            [it, de]|       Sleepy Hollow|1999|\n",
            "| movie:7|[{artist:18, Kevi...|    USA|{artist:17, Mende...|        Comédie|    [en, de, it, fr]|     American Beauty|1999|\n",
            "| movie:8|[{artist:20, Clin...|    USA|{artist:20, Eastw...|        Western|[en, es, it, el, de]|         Impitoyable|1992|\n",
            "| movie:9|[{artist:23, Russ...|    USA|{artist:4, Scott,...|          drama|            [en, de]|           Gladiator|2000|\n",
            "|movie:10|[{artist:24, Harr...|    USA|{artist:4, Scott,...|         Action|[es, el, it, fr, ...|        Blade Runner|1982|\n",
            "|movie:11|[{artist:27, Bruc...|    USA|{artist:26, McTie...|         Action|        [de, es, fr]|    Piège de cristal|1988|\n",
            "|movie:12|[{artist:27, Bruc...|    USA|{artist:28, Harli...|         Action|                [en]|58 minutes pour v...|1990|\n",
            "|movie:13|[{artist:30, Jacq...|     FR|{artist:29, Piala...|          drama|[fr, el, en, it, de]|            Van Gogh|1990|\n",
            "|movie:14|[{artist:18, Kevi...|    USA|{artist:31, Finch...|          crime|[en, it, fr, de, ...|               Seven|1995|\n",
            "|movie:15|[{artist:27, Bruc...|    USA|{artist:33, Gilli...|Science-fiction|        [de, es, en]|      Twelve Monkeys|1995|\n",
            "|movie:16|[{artist:35, Sean...|     FR|{artist:34, Annau...|          crime|                [el]|Le last_name de l...|1986|\n",
            "|movie:17|[{artist:11, John...|    USA|{artist:37, Taran...|         Action|[en, de, es, fr, el]|        Pulp fiction|1994|\n",
            "|movie:18|[{artist:42, Came...|    USA|{artist:41, Farre...|        Comédie|[el, it, es, en, fr]|    Mary à tout prix|1998|\n",
            "|movie:19|[{artist:44, Arno...|    USA|{artist:6, Camero...|Science-fiction|        [fr, de, es]|          Terminator|1984|\n",
            "|movie:20|[{artist:46, Roy,...|     FR|{artist:45, Spiel...|        Horreur|[en, de, it, es, el]| Les dents de la mer|1975|\n",
            "+--------+--------------------+-------+--------------------+---------------+--------------------+--------------------+----+\n",
            "only showing top 20 rows\n",
            "\n",
            "+-------+--------------------+-------+--------------------+---------------+--------------------+----------+----+\n",
            "|    _id|              actors|country|            director|          genre|           languages|     title|year|\n",
            "+-------+--------------------+-------+--------------------+---------------+--------------------+----------+----+\n",
            "|movie:1|[{artist:15, Jame...|     DE|{artist:3, Hitchc...|          drama|                [el]|   Vertigo|1958|\n",
            "|movie:2|[{artist:5, Sigou...|    USA|{artist:4, Scott,...|Science-fiction|    [el, en, it, es]|     Alien|1979|\n",
            "|movie:3|[{artist:109, Kat...|    USA|{artist:6, Camero...|          drama|[el, de, it, en, ...|   Titanic|1997|\n",
            "|movie:4|                  []|     FR|{artist:9, Tarkov...|          drama|[en, it, el, fr, de]| Sacrifice|1986|\n",
            "|movie:5|[{artist:11, John...|    USA|{artist:10, Woo, ...|         Action|[es, fr, en, it, ...|Volte/Face|1997|\n",
            "+-------+--------------------+-------+--------------------+---------------+--------------------+----------+----+\n",
            "only showing top 5 rows\n",
            "\n"
          ]
        }
      ],
      "source": [
        "# YOUR CODE HERE\n",
        "\n",
        "from pyspark.sql.functions import col\n",
        "\n",
        "# Read data from mongodb\n",
        "dfMovies = my_spark.read.format(\"mongodb\").option(\"database\",\"input_data\").option(\"collection\",\"movies_lang\").load()\n",
        "\n",
        "dfMovies.printSchema()\n",
        "dfMovies.show()\n",
        "\n",
        "dfMovies.createOrReplaceTempView(\"Movies\")\n",
        "query = spark.sql(\"SELECT * FROM Movies\")\n",
        "query.show(5)"
      ]
    },
    {
      "cell_type": "markdown",
      "metadata": {
        "id": "mjQyMcL59FwB"
      },
      "source": [
        "### (a) Count the number of movies by country. Sort by count in decreasing order."
      ]
    },
    {
      "cell_type": "code",
      "execution_count": null,
      "metadata": {
        "id": "qOKzEl44nj6V"
      },
      "outputs": [],
      "source": [
        "# YOUR CODE HERE\n",
        "\n",
        "#raise NotImplementedError"
      ]
    },
    {
      "cell_type": "markdown",
      "metadata": {
        "id": "Gi9OiL_K8610"
      },
      "source": [
        "### (b) Return the titles of the movies produced in France."
      ]
    },
    {
      "cell_type": "code",
      "execution_count": null,
      "metadata": {
        "id": "nuIk85yf-5EX"
      },
      "outputs": [],
      "source": [
        "# YOUR CODE HERE\n",
        "\n",
        "#raise NotImplementedError"
      ]
    },
    {
      "cell_type": "markdown",
      "metadata": {
        "id": "RWIrwllI-9LI"
      },
      "source": [
        "### (c) Return the title of the movies of which Sofia Coppola is one of the actresses. "
      ]
    },
    {
      "cell_type": "code",
      "execution_count": 18,
      "metadata": {
        "colab": {
          "base_uri": "https://localhost:8080/"
        },
        "id": "XznCrQxy-858",
        "outputId": "3508db16-d4a8-4bd6-df23-660935f78250"
      },
      "outputs": [
        {
          "output_type": "stream",
          "name": "stdout",
          "text": [
            "+--------------+\n",
            "|         title|\n",
            "+--------------+\n",
            "|Le parrain III|\n",
            "+--------------+\n",
            "\n"
          ]
        }
      ],
      "source": [
        "# YOUR CODE HERE\n",
        "from pyspark.sql.functions import array_contains, split\n",
        "\n",
        "dfMovies.where( array_contains(col('actors.first_name'), \"Sofia\")).where( array_contains(col('actors.last_name'), \"Coppola\")).select(\"title\").show()"
      ]
    },
    {
      "cell_type": "markdown",
      "metadata": {
        "id": "rqtvCzPV_Con"
      },
      "source": [
        "### (d) Return the names and birth dates of the directors of movies produced in France.\n"
      ]
    },
    {
      "cell_type": "code",
      "execution_count": 19,
      "metadata": {
        "colab": {
          "base_uri": "https://localhost:8080/"
        },
        "id": "ZBzAdOj8_Cb3",
        "outputId": "8a1e59dd-157e-47a3-e5da-a48dad17bfe6"
      },
      "outputs": [
        {
          "output_type": "stream",
          "name": "stdout",
          "text": [
            "+---------+------------+----------+\n",
            "|last_name|  first_name|birth_date|\n",
            "+---------+------------+----------+\n",
            "|Hitchcock|      Alfred|      1899|\n",
            "|    Scott|      Ridley|      1937|\n",
            "|  Cameron|       James|      1954|\n",
            "|Tarkovski|      Andrei|      1932|\n",
            "|      Woo|        John|      1946|\n",
            "|   Burton|         Tim|      1958|\n",
            "|   Mendes|         Sam|      1965|\n",
            "| Eastwood|       Clint|      1930|\n",
            "|    Scott|      Ridley|      1937|\n",
            "|    Scott|      Ridley|      1937|\n",
            "|McTierman|        John|      1951|\n",
            "|   Harlin|       Renny|      1959|\n",
            "|   Pialat|     Maurice|      1925|\n",
            "|  Fincher|       David|      1962|\n",
            "|  Gilliam|       Terry|      1940|\n",
            "|   Annaud|Jean-Jacques|      1943|\n",
            "|Tarantino|     Quentin|      1963|\n",
            "| Farrelly|       Bobby|      1958|\n",
            "|  Cameron|       James|      1954|\n",
            "|Spielberg|      Steven|      1946|\n",
            "+---------+------------+----------+\n",
            "only showing top 20 rows\n",
            "\n"
          ]
        }
      ],
      "source": [
        "# YOUR CODE HERE\n",
        "dfMovies.selectExpr(\"director.last_name\", \"director.first_name\", \"director.birth_date\").show()\n",
        "\n",
        "#raise NotImplementedError"
      ]
    },
    {
      "cell_type": "markdown",
      "metadata": {
        "id": "jtYnldOV_MXj"
      },
      "source": [
        "### (e) Return the average number of actors in a film.\n"
      ]
    },
    {
      "cell_type": "code",
      "execution_count": 20,
      "metadata": {
        "id": "RQmY486U_PaW",
        "colab": {
          "base_uri": "https://localhost:8080/"
        },
        "outputId": "148357dc-3a47-4aa8-da7d-f027f8aa7ebf"
      },
      "outputs": [
        {
          "output_type": "stream",
          "name": "stdout",
          "text": [
            "3\n"
          ]
        }
      ],
      "source": [
        "import math\n",
        "data_select = spark.sql(\"select actors from Movies\")\n",
        "n_rows = data_select.count()\n",
        "sum = 0\n",
        "for i in range(n_rows):\n",
        "  row = data_select.collect()[i][0];\n",
        "  sum = sum + len(row)\n",
        "avg = math.ceil(sum / n_rows)\n",
        "print(avg)"
      ]
    },
    {
      "cell_type": "markdown",
      "metadata": {
        "id": "vbZmOOAz_RDj"
      },
      "source": [
        "### (f) Return the name of the actor that acted in the most movies."
      ]
    },
    {
      "cell_type": "code",
      "execution_count": 21,
      "metadata": {
        "id": "V6ZKk9Ts_StS",
        "colab": {
          "base_uri": "https://localhost:8080/"
        },
        "outputId": "203c823a-e8bc-4497-92fa-98a64dd813d9"
      },
      "outputs": [
        {
          "output_type": "stream",
          "name": "stdout",
          "text": [
            "Actor: Row(_id='artist:27', first_name='Bruce', last_name='Willis', birth_date='1955', role='McClane')\n",
            "Amount: 3\n"
          ]
        }
      ],
      "source": [
        "import json\n",
        "import numpy as np\n",
        "from collections import Counter\n",
        "\n",
        "data_select = spark.sql(\"select actors from Movies\")\n",
        "n_rows = data_select.count()\n",
        "all_actors = []\n",
        "for i in range(n_rows):\n",
        "  row = data_select.collect()[i][0];\n",
        "  for j in range(len(row)):\n",
        "    all_actors.append(row[j])\n",
        "counter = Counter(all_actors)\n",
        "temp = counter.most_common(1)\n",
        "actor = temp[0][0]\n",
        "amount = temp[0][1]\n",
        "print(\"Actor:\", actor)\n",
        "print(\"Amount:\", amount)"
      ]
    },
    {
      "cell_type": "markdown",
      "metadata": {
        "id": "1p8qOmwE8MU8"
      },
      "source": [
        "# Part 2: Real-world Data Manipulation"
      ]
    },
    {
      "cell_type": "markdown",
      "metadata": {
        "id": "6Xjjk5Sg_xuO"
      },
      "source": [
        "In this part of the lab, we will work with two collections in our MongoDB: `gia_ke_khai_raw` and `thuoc_raw` loaded at `input_data.gia_ke_khai_raw` and `input_data.thuoc_raw` respectively. We will use PySpark RDD and DataFrame to perform the following tasks:"
      ]
    },
    {
      "cell_type": "markdown",
      "metadata": {
        "id": "QJXKtUUkHDLn"
      },
      "source": [
        "### (a)  Read the datasets into a DataFrame and print out the schema and the number of records."
      ]
    },
    {
      "cell_type": "code",
      "execution_count": 22,
      "metadata": {
        "colab": {
          "base_uri": "https://localhost:8080/"
        },
        "id": "BsEKB1yk_o7d",
        "outputId": "f67d599d-46e6-45de-f500-ac647394ff26"
      },
      "outputs": [
        {
          "output_type": "stream",
          "name": "stdout",
          "text": [
            "root\n",
            " |-- _id: string (nullable = true)\n",
            " |-- baoChe: string (nullable = true)\n",
            " |-- chuY: string (nullable = true)\n",
            " |-- congTyDk: string (nullable = true)\n",
            " |-- congTySx: string (nullable = true)\n",
            " |-- congTySxCode: string (nullable = true)\n",
            " |-- diaChiDk: string (nullable = true)\n",
            " |-- diaChiSx: string (nullable = true)\n",
            " |-- dongGoi: string (nullable = true)\n",
            " |-- dotPheDuyet: string (nullable = true)\n",
            " |-- giaKeKhai: null (nullable = true)\n",
            " |-- hieuLuc: null (nullable = true)\n",
            " |-- hoatChat: string (nullable = true)\n",
            " |-- huongDanSuDung: null (nullable = true)\n",
            " |-- huongDanSuDungBn: null (nullable = true)\n",
            " |-- id: string (nullable = true)\n",
            " |-- images: array (nullable = true)\n",
            " |    |-- element: string (containsNull = true)\n",
            " |-- isHide: string (nullable = true)\n",
            " |-- meta: struct (nullable = true)\n",
            " |    |-- fileName: string (nullable = true)\n",
            " |-- nhomThuoc: string (nullable = true)\n",
            " |-- nongDo: string (nullable = true)\n",
            " |-- nuocDk: string (nullable = true)\n",
            " |-- nuocSx: string (nullable = true)\n",
            " |-- phanLoai: string (nullable = true)\n",
            " |-- pheDuyet: string (nullable = true)\n",
            " |-- rate: string (nullable = true)\n",
            " |-- rows: array (nullable = true)\n",
            " |    |-- element: string (containsNull = true)\n",
            " |-- rutSdk: integer (nullable = true)\n",
            " |-- rutSdkFile: array (nullable = true)\n",
            " |    |-- element: string (containsNull = true)\n",
            " |-- soDangKy: string (nullable = true)\n",
            " |-- soQuyetDinh: string (nullable = true)\n",
            " |-- state: integer (nullable = true)\n",
            " |-- taDuoc: string (nullable = true)\n",
            " |-- ten: null (nullable = true)\n",
            " |-- tenThuoc: string (nullable = true)\n",
            " |-- tieuChuan: string (nullable = true)\n",
            " |-- tuoiTho: string (nullable = true)\n",
            "\n",
            "+--------------------+------+----+--------------------+--------------------+------------+--------------------+--------------------+--------------------+-----------+---------+-------+--------------------+--------------+----------------+-----------+------+------+------+---------+------+--------+--------+--------+----------+-----+----+------+----------+-----------+-----------+-----+------+----+--------------------+---------+--------+\n",
            "|                 _id|baoChe|chuY|            congTyDk|            congTySx|congTySxCode|            diaChiDk|            diaChiSx|             dongGoi|dotPheDuyet|giaKeKhai|hieuLuc|            hoatChat|huongDanSuDung|huongDanSuDungBn|         id|images|isHide|  meta|nhomThuoc|nongDo|  nuocDk|  nuocSx|phanLoai|  pheDuyet| rate|rows|rutSdk|rutSdkFile|   soDangKy|soQuyetDinh|state|taDuoc| ten|            tenThuoc|tieuChuan| tuoiTho|\n",
            "+--------------------+------+----+--------------------+--------------------+------------+--------------------+--------------------+--------------------+-----------+---------+-------+--------------------+--------------+----------------+-----------+------+------+------+---------+------+--------+--------+--------+----------+-----+----+------+----------+-----------+-----------+-----+------+----+--------------------+---------+--------+\n",
            "|644137fb8dad4151e...|      |null|Công ty cổ phần d...|Công ty cổ phần d...|    PHARBACO|160 - Tôn Đức Thắ...|160 - Tôn Đức Thắ...|   Hộp 2 vỉ x 7 viên|        119|     null|   null|amoxicilin  500mg...|          null|            null|VD-10418-10|    []|   Yes|{null}| Tân dược|      |Việt Nam|Việt Nam|    null|24/02/2010|018.5|  []|     0|        []|VD-10418-10|  42/QĐ-QLD|  202|  null|null|Amogentine 500mg/...|     TCCS|24 tháng|\n",
            "|644137fb8dad4151e...|      |null|Công ty cổ phần d...|Công ty cổ phần d...|    PHARBACO|160 - Tôn Đức Thắ...|160 - Tôn Đức Thắ...|Hộp 3 vỉ x 4 viên...|        119|     null|   null|  levofloxacin 250mg|          null|            null|VD-10419-10|    []|   Yes|{null}| Tân dược|      |Việt Nam|Việt Nam|    null|24/02/2010|005.0|  []|     0|        []|VD-10419-10|  42/QĐ-QLD|  202|  null|null|             PQAlevo|     TCCS|36 tháng|\n",
            "|644137fb8dad4151e...|      |null|Công ty cổ phần d...|Công ty cổ phần d...|   FORIPHARM|Xã Nam Sơn, huyện...|Xã Nam Sơn, huyện...|Lọ 100 viên, 250 ...|        119|     null|   null|Berberin clorid 0...|          null|            null|VD-10420-10|    []|   Yes|{null}| Tân dược|      |Việt Nam|Việt Nam|    null|24/02/2010|005.0|  []|     0|        []|VD-10420-10|  42/QĐ-QLD|  202|  null|null|      Berberin 0,01g|   DĐVN 3|24 tháng|\n",
            "|644137fb8dad4151e...|      |null|Công ty cổ phần d...|Công ty cổ phần d...|   FORIPHARM|Xã Nam Sơn, huyện...|Xã Nam Sơn, huyện...|Hộp 5 vỉ, 10 vỉ, ...|        119|     null|   null|Berberin clorid 0...|          null|            null|VD-10421-10|    []|   Yes|{null}| Tân dược|      |Việt Nam|Việt Nam|    null|24/02/2010|005.0|  []|     0|        []|VD-10421-10|  42/QĐ-QLD|  202|  null|null|      Berberin 0,05g|     TCCS|36 tháng|\n",
            "|644137fb8dad4151e...|      |null|Công ty cổ phần d...|Công ty cổ phần d...|   FORIPHARM|Xã Nam Sơn, huyện...|Xã Nam Sơn, huyện...|Hộp 10 vỉ x 10 vi...|        119|     null|   null|Doxycyclin hydroc...|          null|            null|VD-10422-10|    []|   Yes|{null}| Tân dược|      |Việt Nam|Việt Nam|    null|24/02/2010|005.0|  []|     0|        []|VD-10422-10|  42/QĐ-QLD|  202|  null|null|Doxycyclin TW3 10...|   DĐVN 3|24 tháng|\n",
            "+--------------------+------+----+--------------------+--------------------+------------+--------------------+--------------------+--------------------+-----------+---------+-------+--------------------+--------------+----------------+-----------+------+------+------+---------+------+--------+--------+--------+----------+-----+----+------+----------+-----------+-----------+-----+------+----+--------------------+---------+--------+\n",
            "only showing top 5 rows\n",
            "\n",
            "38945\n",
            "root\n",
            " |-- _id: string (nullable = true)\n",
            " |-- doanhNghiepDk: string (nullable = true)\n",
            " |-- doanhNghiepSx: string (nullable = true)\n",
            " |-- dongGoi: string (nullable = true)\n",
            " |-- dvt: string (nullable = true)\n",
            " |-- giaBan: string (nullable = true)\n",
            " |-- hoatChat: null (nullable = true)\n",
            " |-- id: string (nullable = true)\n",
            " |-- image: null (nullable = true)\n",
            " |-- ngayBaoCao: string (nullable = true)\n",
            " |-- ngayVanBan: null (nullable = true)\n",
            " |-- nongDo: null (nullable = true)\n",
            " |-- sdk: string (nullable = true)\n",
            " |-- soVanBan: null (nullable = true)\n",
            " |-- stt: null (nullable = true)\n",
            " |-- tenThuoc: null (nullable = true)\n",
            "\n",
            "+--------------------+--------------------+-------------+--------------------+----+------+--------+--------------------+-----+----------+----------+------+-----------+--------+----+--------+\n",
            "|                 _id|       doanhNghiepDk|doanhNghiepSx|             dongGoi| dvt|giaBan|hoatChat|                  id|image|ngayBaoCao|ngayVanBan|nongDo|        sdk|soVanBan| stt|tenThuoc|\n",
            "+--------------------+--------------------+-------------+--------------------+----+------+--------+--------------------+-----+----------+----------+------+-----------+--------+----+--------+\n",
            "|644137f98dad4151e...|Công ty cổ phần d...|         null|Hộp 6 vỉ x 10 viê...|Viên|  3000|    null|5d4947f46f6a36432...| null|26/03/2019|      null|  null|VD-31633-19|    null|null|    null|\n",
            "|644137f98dad4151e...|Công ty cổ phần d...|         null|   Hộp 2 vỉ x 7 viên|Viên|450000|    null|5d4947f46f6a36432...| null|26/03/2019|      null|  null|VD-30908-18|    null|null|    null|\n",
            "|644137f98dad4151e...|Công ty cổ phần d...|         null|  Hộp 6 vỉ x 10 viên|Viên|  6000|    null|5d4947f46f6a36432...| null|26/03/2019|      null|  null|VD-31634-19|    null|null|    null|\n",
            "|644137f98dad4151e...|Công ty cổ phần d...|         null|        Hộp 100 viên|Viên|   800|    null|5d4947f46f6a36432...| null|26/03/2019|      null|  null|VD-28717-18|    null|null|    null|\n",
            "|644137f98dad4151e...|Công ty TNHH dược...|         null|  Hộp 6 vỉ x 10 viên|Viên|  4000|    null|5d4947f46f6a36432...| null|27/03/2019|      null|  null|VD-32382-19|    null|null|    null|\n",
            "+--------------------+--------------------+-------------+--------------------+----+------+--------+--------------------+-----+----------+----------+------+-----------+--------+----+--------+\n",
            "only showing top 5 rows\n",
            "\n",
            "62197\n"
          ]
        }
      ],
      "source": [
        "# YOUR CODE HERE\n",
        "dfDrugs = my_spark.read.format(\"mongodb\").option(\"database\",\"input_data\").option(\"collection\",\"thuoc_raw\").load()\n",
        "\n",
        "dfDrugs.printSchema()\n",
        "dfDrugs.show(5)\n",
        "print(dfDrugs.count())\n",
        "\n",
        "dfPrices = my_spark.read.format(\"mongodb\").option(\"database\",\"input_data\").option(\"collection\",\"gia_ke_khai_raw\").load()\n",
        "\n",
        "dfPrices.printSchema()\n",
        "dfPrices.show(5)\n",
        "print(dfPrices.count())"
      ]
    },
    {
      "cell_type": "markdown",
      "metadata": {
        "id": "KrwAxI--bzks"
      },
      "source": [
        "### (b) Show all records in the `thuoc_raw` collection that have the same active pharmaceutical ingredient (API) in their `hoatChat` field as their medicine name.\n",
        "\n",
        "\n",
        "Notes: In the context of medication, API stands for Active Pharmaceutical Ingredient, which is the biologically active component in a drug that produces the intended therapeutic effect. In other words, it is the chemical substance that gives a medicine its medicinal properties."
      ]
    },
    {
      "cell_type": "code",
      "execution_count": 24,
      "metadata": {
        "colab": {
          "base_uri": "https://localhost:8080/"
        },
        "id": "myaTwNj8byW0",
        "outputId": "b9e370b3-d833-4805-fe79-5c4a3d883e27"
      },
      "outputs": [
        {
          "output_type": "stream",
          "name": "stdout",
          "text": [
            "+--------------------+------+----+--------------------+--------------------+------------+--------------------+--------------------+--------------------+-----------+---------+-------+--------------------+--------------+----------------+-----------+------+------+------+---------+------+--------+--------+--------+----------+-----+----+------+----------+-----------+-----------+-----+------+----+------------------+---------+--------+\n",
            "|                 _id|baoChe|chuY|            congTyDk|            congTySx|congTySxCode|            diaChiDk|            diaChiSx|             dongGoi|dotPheDuyet|giaKeKhai|hieuLuc|            hoatChat|huongDanSuDung|huongDanSuDungBn|         id|images|isHide|  meta|nhomThuoc|nongDo|  nuocDk|  nuocSx|phanLoai|  pheDuyet| rate|rows|rutSdk|rutSdkFile|   soDangKy|soQuyetDinh|state|taDuoc| ten|          tenThuoc|tieuChuan| tuoiTho|\n",
            "+--------------------+------+----+--------------------+--------------------+------------+--------------------+--------------------+--------------------+-----------+---------+-------+--------------------+--------------+----------------+-----------+------+------+------+---------+------+--------+--------+--------+----------+-----+----+------+----------+-----------+-----------+-----+------+----+------------------+---------+--------+\n",
            "|644137fb8dad4151e...|      |null|Công ty cổ phần d...|Công ty cổ phần d...|   FORIPHARM|Xã Nam Sơn, huyện...|Xã Nam Sơn, huyện...|Hộp 10 vỉ, 50 vỉ ...|        119|     null|   null|  Paracetamol 500 mg|          null|            null|VD-10423-10|    []|   Yes|{null}| Tân dược|      |Việt Nam|Việt Nam|    null|24/02/2010|018.5|  []|     0|        []|VD-10423-10|  42/QĐ-QLD|  202|  null|null|Paracetamol 500 mg|   DĐVN 3|24 tháng|\n",
            "|644137fb8dad4151e...|      |null|Công ty cổ phần d...|Công ty cổ phần d...|   FORIPHARM|Xã Nam Sơn, huyện...|Xã Nam Sơn, huyện...|     Lọ 400 viên nén|        119|     null|   null|  Tetracyclin 250 mg|          null|            null|VD-10425-10|    []|   Yes|{null}| Tân dược|      |Việt Nam|Việt Nam|    null|24/02/2010|018.5|  []|     0|        []|VD-10425-10|  42/QĐ-QLD|  202|  null|null|Tetracyclin 250 mg|   DĐVN 3|24 tháng|\n",
            "|644137fb8dad4151e...|      |null|Công ty Cổ phần D...|Công ty Cổ phần D...|    PHARBACO|160 Tôn Đức Thắng...|160 Tôn Đức Thắng...|Hộp 10 vỉ xé x 10...|        119|     null|   null|     Cimetidin 200mg|          null|            null|VD-10431-10|    []|   Yes|{null}| Tân dược|      |Việt Nam|Việt Nam|    null|24/02/2010|018.5|  []|     0|        []|VD-10431-10|  42/QĐ-QLD|  202|  null|null|   Cimetidin 200mg|   DĐVN 3|48 tháng|\n",
            "|644137fb8dad4151e...|      |null|Công ty Cổ phần D...|Công ty Cổ phần D...|    PHARBACO|160 Tôn Đức Thắng...|160 Tôn Đức Thắng...|Hộp 10 vỉ x 10 vi...|        119|     null|   null|    Lincomycin 500mg|          null|            null|VD-10440-10|    []|   Yes|{null}| Tân dược|      |Việt Nam|Việt Nam|    null|24/02/2010|018.5|  []|     0|        []|VD-10440-10|  42/QĐ-QLD|  202|  null|null|  Lincomycin 500mg|   DĐVN 3|36 tháng|\n",
            "|644137fb8dad4151e...|      |null|Công ty Cổ phần D...|Công ty Cổ phần D...|    PHARBACO|160 Tôn Đức Thắng...|160 Tôn Đức Thắng...|Hộp 100 ống thuốc...|        119|     null|   null|  Ouabain 0,25mg/1ml|          null|            null|VD-10446-10|    []|   Yes|{null}| Tân dược|      |Việt Nam|Việt Nam|    null|24/02/2010|018.5|  []|     0|        []|VD-10446-10|  42/QĐ-QLD|  202|  null|null|    Ouabain 0,25mg|     TCCS|36 tháng|\n",
            "|644137fb8dad4151e...|      |null|Công ty Cổ phần D...|Công ty Cổ phần D...|    PHARBACO|160 Tôn Đức Thắng...|160 Tôn Đức Thắng...|Hộp 10 vỉ x 10 vi...|        119|     null|   null|     Piracetam 400mg|          null|            null|VD-10452-10|    []|   Yes|{null}| Tân dược|      |Việt Nam|Việt Nam|    null|24/02/2010|018.5|  []|     0|        []|VD-10452-10|  42/QĐ-QLD|  202|  null|null|         Piracetam|     TCCS|36 tháng|\n",
            "|644137fb8dad4151e...|      |null|Công ty cổ phần d...|Công ty cổ phần d...|     VIDIPHA|18-Nguyễn Văn Trỗ...|18-Nguyễn Văn Trỗ...|Hộp 2 vỉ x 10 viê...|        119|     null|   null|  Griseofulvin 500mg|          null|            null|VD-10470-10|    []|   Yes|{null}| Tân dược|      |Việt Nam|Việt Nam|    null|24/02/2010|005.0|  []|     0|        []|VD-10470-10|  42/QĐ-QLD|  202|  null|null|Griseofulvin 500mg| DĐVN III|36 tháng|\n",
            "|644137fb8dad4151e...|      |null|Công ty cổ phần d...|Công ty cổ phần d...|     VIDIPHA|18-Nguyễn Văn Trỗ...|18-Nguyễn Văn Trỗ...|Hộp 10 vỉ x 10 vi...|        119|     null|   null|   Indomethacin 25mg|          null|            null|VD-10471-10|    []|   Yes|{null}| Tân dược|      |Việt Nam|Việt Nam|    null|24/02/2010|005.0|  []|     0|        []|VD-10471-10|  42/QĐ-QLD|  202|  null|null| Indomethacin 25mg|     TCCS|36 tháng|\n",
            "|644137fb8dad4151e...|      |null|Công ty cổ phần d...|Công ty cổ phần d...|     VIDIPHA|18-Nguyễn Văn Trỗ...|18-Nguyễn Văn Trỗ...|Hộp 10 vỉ x 10 vi...|        119|     null|   null|   Paracetamol 500mg|          null|            null|VD-10475-10|    []|   Yes|{null}| Tân dược|      |Việt Nam|Việt Nam|    null|24/02/2010|018.5|  []|     0|        []|VD-10475-10|  42/QĐ-QLD|  202|  null|null| Paracetamol 500mg| DĐVN III|36 tháng|\n",
            "|644137fb8dad4151e...|      |null|Công ty cổ phần d...|Công ty cổ phần d...|     VIDIPHA|18-Nguyễn Văn Trỗ...|18-Nguyễn Văn Trỗ...|Hộp 10 vỉ x 10 vi...|        119|     null|   null|   Paracetamol 500mg|          null|            null|VD-10476-10|    []|   Yes|{null}| Tân dược|      |Việt Nam|Việt Nam|    null|24/02/2010|018.5|  []|     0|        []|VD-10476-10|  42/QĐ-QLD|  202|  null|null| Paracetamol 500mg| DĐVN III|36 tháng|\n",
            "|644137fb8dad4151e...|      |null|Công ty cổ phần d...|Công ty cổ phần d...|     VIDIPHA|18-Nguyễn Văn Trỗ...|18-Nguyễn Văn Trỗ...|Hộp 2 vỉ x 20 viê...|        119|     null|   null|       Prednison 5mg|          null|            null|VD-10477-10|    []|   Yes|{null}| Tân dược|      |Việt Nam|Việt Nam|    null|24/02/2010|018.5|  []|     0|        []|VD-10477-10|  42/QĐ-QLD|  202|  null|null|     Prednison 5mg|     TCCS|36 tháng|\n",
            "|644137fb8dad4151e...|      |null|Công ty cổ phần d...|Công ty cổ phần d...|     TVPHARM|27 Điện Biên Phủ,...|27 Điện Biên Phủ,...|Hộp 1 lọ + 10ml n...|        119|     null|   null|Cefuroxim natri 7...|          null|            null|VD-10489-10|    []|   Yes|{null}| Tân dược|      |Việt Nam|Việt Nam|    null|24/02/2010|005.0|  []|     0|        []|VD-10489-10|  42/QĐ-QLD|  202|  null|null|   Cefuroxim 750mg|     TCCS|36 tháng|\n",
            "|644137fb8dad4151e...|      |null|Công ty cổ phần d...|Công ty cổ phần d...|     TVPHARM|27 Điện Biên Phủ,...|27 Điện Biên Phủ,...|Hộp 10 vỉ x 10 vi...|        119|     null|   null| Ciprofloxacin 500mg|          null|            null|VD-10492-10|    []|   Yes|{null}| Tân dược|      |Việt Nam|Việt Nam|    null|24/02/2010|018.5|  []|     0|        []|VD-10492-10|  42/QĐ-QLD|  202|  null|null|     Ciprofloxacin| DĐVN III|36 tháng|\n",
            "|644137fb8dad4151e...|      |null|Công ty cổ phần d...|Công ty cổ phần d...|     TVPHARM|27 Điện Biên Phủ,...|27 Điện Biên Phủ,...|Chai 100 viên, ch...|        119|     null|   null|    Prednisolone 5mg|          null|            null|VD-10498-10|    []|   Yes|{null}| Tân dược|      |Việt Nam|Việt Nam|    null|24/02/2010|018.5|  []|     0|        []|VD-10498-10|  42/QĐ-QLD|  202|  null|null|      Prednisolone|     TCCS|36 tháng|\n",
            "|644137fb8dad4151e...|      |null|Công ty cổ phần d...|Công ty cổ phần d...|     TVPHARM|27 Điện Biên Phủ,...|27 Điện Biên Phủ,...|Hộp 10 vỉ x 20 vi...|        119|     null|   null|    Prednisolone 5mg|          null|            null|VD-10499-10|    []|   Yes|{null}| Tân dược|      |Việt Nam|Việt Nam|    null|24/02/2010|018.5|  []|     0|        []|VD-10499-10|  42/QĐ-QLD|  202|  null|null|      Prednisolone|     TCCS|36 tháng|\n",
            "|644137fb8dad4151e...|      |null|Công ty cổ phần D...|Công ty cổ phần D...|      UPHACE|120 Hai Bà Trưng-...|120 Hai Bà Trưng-...|hộp 1 vỉ 10 ống x...|        119|     null|   null|Paracetamol 450mg...|          null|            null|VD-10521-10|    []|   Yes|{null}| Tân dược|      |Việt Nam|Việt Nam|    null|24/02/2010|005.0|  []|     0|        []|VD-10521-10|  42/QĐ-QLD|  202|  null|null| Paracetamol 450mg|     TCCS|24 tháng|\n",
            "|644137fb8dad4151e...|      |null|Công ty cổ phần d...|Công ty cổ phần d...| MEDIPLANTEX|Thôn Trung Hậu, x...|Thôn Trung Hậu, x...|hộp 20 gói x 1,5 ...|        119|     null|   null|  Roxithromycin 50mg|          null|            null|VD-10542-10|    []|   Yes|{null}| Tân dược|      |Việt Nam|Việt Nam|    null|24/02/2010|005.0|  []|     0|        []|VD-10542-10|  42/QĐ-QLD|  202|  null|null|     Roxithromycin|     TCCS|36 tháng|\n",
            "|644137fb8dad4151e...|      |null|Công ty cổ phần d...|Công ty cổ phần d...|  MEDIPHARCO|Số 8 Nguyễn Trườn...|Số 8 Nguyễn Trườn...|hộp 1 tuýp 5 gam,...|        119|     null|   null|Promethazin hydro...|          null|            null|VD-10554-10|    []|   Yes|{null}| Tân dược|      |Việt Nam|Việt Nam|    null|24/02/2010|032.0|  []|     0|        []|VD-10554-10|  42/QĐ-QLD|  202|  null|null|       Promethazin|     TCCS|36 tháng|\n",
            "|644137fb8dad4151e...|      |null|Công ty cổ phần d...|Công ty cổ phần d...|    HADIPHAR|167 Hà Huy Tập, t...|167 Hà Huy Tập, t...|Hộp 2 vỉ x 10 viê...|        119|     null|   null|Hương phụ, ích mẫ...|          null|            null|VD-10563-10|    []|   Yes|{null}|Đông dược|      |Việt Nam|Việt Nam|    null|24/02/2010|032.0|  []|     0|        []|VD-10563-10|  42/QĐ-QLD|  202|  null|null|           ích mẫu|     TCCS|36 tháng|\n",
            "|644137fb8dad4151e...|      |null|Công ty cổ phần d...|Công ty cổ phần d...|   VACOPHARM|Km 1954, quốc lộ ...|Km 1954, quốc lộ ...|hộp 3 vỉ, 2 vỉ, 5...|        119|     null|   null|     Meloxicam 7,5mg|          null|            null|VD-10568-10|    []|   Yes|{null}| Tân dược|      |Việt Nam|Việt Nam|    null|24/02/2010|032.0|  []|     0|        []|VD-10568-10|  42/QĐ-QLD|  202|  null|null|         Meloxicam|     TCCS|36 tháng|\n",
            "+--------------------+------+----+--------------------+--------------------+------------+--------------------+--------------------+--------------------+-----------+---------+-------+--------------------+--------------+----------------+-----------+------+------+------+---------+------+--------+--------+--------+----------+-----+----+------+----------+-----------+-----------+-----+------+----+------------------+---------+--------+\n",
            "only showing top 20 rows\n",
            "\n"
          ]
        }
      ],
      "source": [
        "# YOUR CODE HERE\n",
        "dfDrugs.where(dfDrugs.hoatChat.contains(dfDrugs.tenThuoc)).show()\n",
        "#raise NotImplementedError"
      ]
    },
    {
      "cell_type": "markdown",
      "metadata": {
        "id": "9e0N9KtvIIS4"
      },
      "source": [
        "### (c) Create a new DataFrame from the `thuoc_raw` collection that splits the API in the `hoatChat` field into multiple rows. For example, \"paracetamol\" is the API in \"Paracetamol 500 mg,\" and \"amoxicillin\" is the API in various medications such as \"Amogentine 500mg/125mg,\" \"Augbactam 1g/200mg,\" and \"Viamomentin.\" The resulting DataFrame should have two columns: `hoatChat` and `thuocTuongUng` as a list. After processing the data, write it back to our MongoDB at `output_data.thuocthaythe`."
      ]
    },
    {
      "cell_type": "code",
      "execution_count": null,
      "metadata": {
        "id": "BQzlRdrKag1A"
      },
      "outputs": [],
      "source": [
        "# YOUR CODE HERE\n",
        "\n",
        "#raise NotImplementedError"
      ]
    },
    {
      "cell_type": "markdown",
      "metadata": {
        "id": "sQ00j4TuHosd"
      },
      "source": [
        "### (d) Create new DataFrame from two mentioned above that contains  `tenThuoc`, `hoatChat`, `dongGoi`, `dvt` and `giaBan`. After process the data, write it back to our mongodb at `output_data.giathuoc`."
      ]
    },
    {
      "cell_type": "code",
      "execution_count": null,
      "metadata": {
        "id": "O8YNrN4lAZa5"
      },
      "outputs": [],
      "source": [
        "# YOUR CODE HERE\n",
        "\n",
        "#raise NotImplementedError"
      ]
    }
  ],
  "metadata": {
    "colab": {
      "collapsed_sections": [
        "tChWFAUf8CAg"
      ],
      "provenance": []
    },
    "gpuClass": "standard",
    "kernelspec": {
      "display_name": "Python 3",
      "name": "python3"
    },
    "language_info": {
      "name": "python"
    }
  },
  "nbformat": 4,
  "nbformat_minor": 0
}